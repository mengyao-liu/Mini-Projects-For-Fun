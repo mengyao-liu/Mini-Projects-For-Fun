{
 "cells": [
  {
   "cell_type": "markdown",
   "metadata": {},
   "source": [
    "# Blue Owl Simple Challenge\n",
    "### Liu  02/15/2020\n",
    "\n",
    "### Summary: I use the CatBoost classifier to predict the likelihood of the ${\\tt outcome}$ variable being equal to 1 with an expected AUC of 0.831."
   ]
  },
  {
   "cell_type": "markdown",
   "metadata": {},
   "source": [
    "## 1. Exploratory Data Analysis"
   ]
  },
  {
   "cell_type": "markdown",
   "metadata": {},
   "source": [
    "### 1.1  Data Examination & Cleaning"
   ]
  },
  {
   "cell_type": "code",
   "execution_count": 1,
   "metadata": {},
   "outputs": [],
   "source": [
    "import numpy as np \n",
    "import pandas as pd\n",
    "import matplotlib.pyplot as plt\n",
    "import seaborn as sns\n",
    "from sklearn.preprocessing import StandardScaler\n",
    "from sklearn.model_selection import train_test_split\n",
    "%matplotlib inline"
   ]
  },
  {
   "cell_type": "code",
   "execution_count": 3,
   "metadata": {},
   "outputs": [],
   "source": [
    "def load_csv(train='train.csv',test='test.csv'):\n",
    "    \"\"\"\n",
    "    Load your original data.\n",
    "    \n",
    "    Arguments:\n",
    "    - train: csv file of training data\n",
    "    - test: csv file of test data\n",
    "    \n",
    "    Returns:\n",
    "    - train_data: DataFrame object for training data\n",
    "    - test_data: DataFrame object for test data\n",
    "    \"\"\"\n",
    "    train_data = pd.read_csv(train)\n",
    "    test_data = pd.read_csv(test)\n",
    "    \n",
    "    return train_data, test_data"
   ]
  },
  {
   "cell_type": "code",
   "execution_count": 5,
   "metadata": {},
   "outputs": [
    {
     "data": {
      "text/html": [
       "<div>\n",
       "<style scoped>\n",
       "    .dataframe tbody tr th:only-of-type {\n",
       "        vertical-align: middle;\n",
       "    }\n",
       "\n",
       "    .dataframe tbody tr th {\n",
       "        vertical-align: top;\n",
       "    }\n",
       "\n",
       "    .dataframe thead th {\n",
       "        text-align: right;\n",
       "    }\n",
       "</style>\n",
       "<table border=\"1\" class=\"dataframe\">\n",
       "  <thead>\n",
       "    <tr style=\"text-align: right;\">\n",
       "      <th></th>\n",
       "      <th>age</th>\n",
       "      <th>cost_of_ad</th>\n",
       "      <th>device_type</th>\n",
       "      <th>gender</th>\n",
       "      <th>in_initial_launch_location</th>\n",
       "      <th>income</th>\n",
       "      <th>n_drivers</th>\n",
       "      <th>n_vehicles</th>\n",
       "      <th>prior_ins_tenure</th>\n",
       "      <th>outcome</th>\n",
       "    </tr>\n",
       "  </thead>\n",
       "  <tbody>\n",
       "    <tr>\n",
       "      <th>0</th>\n",
       "      <td>56</td>\n",
       "      <td>0.005737</td>\n",
       "      <td>iPhone</td>\n",
       "      <td>M</td>\n",
       "      <td>0</td>\n",
       "      <td>62717</td>\n",
       "      <td>2</td>\n",
       "      <td>1</td>\n",
       "      <td>4</td>\n",
       "      <td>0</td>\n",
       "    </tr>\n",
       "    <tr>\n",
       "      <th>1</th>\n",
       "      <td>50</td>\n",
       "      <td>0.004733</td>\n",
       "      <td>desktop</td>\n",
       "      <td>F</td>\n",
       "      <td>0</td>\n",
       "      <td>64328</td>\n",
       "      <td>2</td>\n",
       "      <td>3</td>\n",
       "      <td>2</td>\n",
       "      <td>0</td>\n",
       "    </tr>\n",
       "    <tr>\n",
       "      <th>2</th>\n",
       "      <td>54</td>\n",
       "      <td>0.004129</td>\n",
       "      <td>laptop</td>\n",
       "      <td>M</td>\n",
       "      <td>0</td>\n",
       "      <td>83439</td>\n",
       "      <td>1</td>\n",
       "      <td>3</td>\n",
       "      <td>7</td>\n",
       "      <td>0</td>\n",
       "    </tr>\n",
       "    <tr>\n",
       "      <th>3</th>\n",
       "      <td>16</td>\n",
       "      <td>0.005117</td>\n",
       "      <td>Android</td>\n",
       "      <td>F</td>\n",
       "      <td>0</td>\n",
       "      <td>30110</td>\n",
       "      <td>2</td>\n",
       "      <td>3</td>\n",
       "      <td>0</td>\n",
       "      <td>0</td>\n",
       "    </tr>\n",
       "    <tr>\n",
       "      <th>4</th>\n",
       "      <td>37</td>\n",
       "      <td>0.003635</td>\n",
       "      <td>desktop</td>\n",
       "      <td>M</td>\n",
       "      <td>0</td>\n",
       "      <td>76565</td>\n",
       "      <td>2</td>\n",
       "      <td>1</td>\n",
       "      <td>5</td>\n",
       "      <td>0</td>\n",
       "    </tr>\n",
       "  </tbody>\n",
       "</table>\n",
       "</div>"
      ],
      "text/plain": [
       "   age  cost_of_ad device_type gender  in_initial_launch_location  income  \\\n",
       "0   56    0.005737      iPhone      M                           0   62717   \n",
       "1   50    0.004733     desktop      F                           0   64328   \n",
       "2   54    0.004129      laptop      M                           0   83439   \n",
       "3   16    0.005117     Android      F                           0   30110   \n",
       "4   37    0.003635     desktop      M                           0   76565   \n",
       "\n",
       "   n_drivers  n_vehicles  prior_ins_tenure  outcome  \n",
       "0          2           1                 4        0  \n",
       "1          2           3                 2        0  \n",
       "2          1           3                 7        0  \n",
       "3          2           3                 0        0  \n",
       "4          2           1                 5        0  "
      ]
     },
     "execution_count": 5,
     "metadata": {},
     "output_type": "execute_result"
    }
   ],
   "source": [
    "train_data, test_data = load_csv()\n",
    "train_data.head()"
   ]
  },
  {
   "cell_type": "code",
   "execution_count": 6,
   "metadata": {},
   "outputs": [
    {
     "data": {
      "text/html": [
       "<div>\n",
       "<style scoped>\n",
       "    .dataframe tbody tr th:only-of-type {\n",
       "        vertical-align: middle;\n",
       "    }\n",
       "\n",
       "    .dataframe tbody tr th {\n",
       "        vertical-align: top;\n",
       "    }\n",
       "\n",
       "    .dataframe thead th {\n",
       "        text-align: right;\n",
       "    }\n",
       "</style>\n",
       "<table border=\"1\" class=\"dataframe\">\n",
       "  <thead>\n",
       "    <tr style=\"text-align: right;\">\n",
       "      <th></th>\n",
       "      <th>age</th>\n",
       "      <th>cost_of_ad</th>\n",
       "      <th>device_type</th>\n",
       "      <th>gender</th>\n",
       "      <th>in_initial_launch_location</th>\n",
       "      <th>income</th>\n",
       "      <th>n_drivers</th>\n",
       "      <th>n_vehicles</th>\n",
       "      <th>prior_ins_tenure</th>\n",
       "    </tr>\n",
       "  </thead>\n",
       "  <tbody>\n",
       "    <tr>\n",
       "      <th>0</th>\n",
       "      <td>34</td>\n",
       "      <td>0.005134</td>\n",
       "      <td>Android</td>\n",
       "      <td>F</td>\n",
       "      <td>1</td>\n",
       "      <td>40376</td>\n",
       "      <td>1</td>\n",
       "      <td>3</td>\n",
       "      <td>7</td>\n",
       "    </tr>\n",
       "    <tr>\n",
       "      <th>1</th>\n",
       "      <td>53</td>\n",
       "      <td>0.005223</td>\n",
       "      <td>desktop</td>\n",
       "      <td>F</td>\n",
       "      <td>1</td>\n",
       "      <td>84511</td>\n",
       "      <td>1</td>\n",
       "      <td>1</td>\n",
       "      <td>11</td>\n",
       "    </tr>\n",
       "    <tr>\n",
       "      <th>2</th>\n",
       "      <td>46</td>\n",
       "      <td>0.004939</td>\n",
       "      <td>laptop</td>\n",
       "      <td>F</td>\n",
       "      <td>0</td>\n",
       "      <td>79322</td>\n",
       "      <td>1</td>\n",
       "      <td>1</td>\n",
       "      <td>4</td>\n",
       "    </tr>\n",
       "    <tr>\n",
       "      <th>3</th>\n",
       "      <td>36</td>\n",
       "      <td>0.004924</td>\n",
       "      <td>Android</td>\n",
       "      <td>F</td>\n",
       "      <td>0</td>\n",
       "      <td>63295</td>\n",
       "      <td>1</td>\n",
       "      <td>2</td>\n",
       "      <td>0</td>\n",
       "    </tr>\n",
       "    <tr>\n",
       "      <th>4</th>\n",
       "      <td>28</td>\n",
       "      <td>0.005146</td>\n",
       "      <td>other</td>\n",
       "      <td>F</td>\n",
       "      <td>1</td>\n",
       "      <td>36170</td>\n",
       "      <td>1</td>\n",
       "      <td>3</td>\n",
       "      <td>3</td>\n",
       "    </tr>\n",
       "  </tbody>\n",
       "</table>\n",
       "</div>"
      ],
      "text/plain": [
       "   age  cost_of_ad device_type gender  in_initial_launch_location  income  \\\n",
       "0   34    0.005134     Android      F                           1   40376   \n",
       "1   53    0.005223     desktop      F                           1   84511   \n",
       "2   46    0.004939      laptop      F                           0   79322   \n",
       "3   36    0.004924     Android      F                           0   63295   \n",
       "4   28    0.005146       other      F                           1   36170   \n",
       "\n",
       "   n_drivers  n_vehicles  prior_ins_tenure  \n",
       "0          1           3                 7  \n",
       "1          1           1                11  \n",
       "2          1           1                 4  \n",
       "3          1           2                 0  \n",
       "4          1           3                 3  "
      ]
     },
     "execution_count": 6,
     "metadata": {},
     "output_type": "execute_result"
    }
   ],
   "source": [
    "test_data.head()"
   ]
  },
  {
   "cell_type": "code",
   "execution_count": 7,
   "metadata": {},
   "outputs": [
    {
     "data": {
      "text/plain": [
       "((10000, 10), (10000, 9))"
      ]
     },
     "execution_count": 7,
     "metadata": {},
     "output_type": "execute_result"
    }
   ],
   "source": [
    "train_data.shape,test_data.shape"
   ]
  },
  {
   "cell_type": "code",
   "execution_count": 8,
   "metadata": {},
   "outputs": [
    {
     "data": {
      "text/html": [
       "<div>\n",
       "<style scoped>\n",
       "    .dataframe tbody tr th:only-of-type {\n",
       "        vertical-align: middle;\n",
       "    }\n",
       "\n",
       "    .dataframe tbody tr th {\n",
       "        vertical-align: top;\n",
       "    }\n",
       "\n",
       "    .dataframe thead th {\n",
       "        text-align: right;\n",
       "    }\n",
       "</style>\n",
       "<table border=\"1\" class=\"dataframe\">\n",
       "  <thead>\n",
       "    <tr style=\"text-align: right;\">\n",
       "      <th></th>\n",
       "      <th>age</th>\n",
       "      <th>cost_of_ad</th>\n",
       "      <th>in_initial_launch_location</th>\n",
       "      <th>income</th>\n",
       "      <th>n_drivers</th>\n",
       "      <th>n_vehicles</th>\n",
       "      <th>prior_ins_tenure</th>\n",
       "      <th>outcome</th>\n",
       "    </tr>\n",
       "  </thead>\n",
       "  <tbody>\n",
       "    <tr>\n",
       "      <th>count</th>\n",
       "      <td>10000.000000</td>\n",
       "      <td>10000.000000</td>\n",
       "      <td>10000.000000</td>\n",
       "      <td>10000.000000</td>\n",
       "      <td>10000.000000</td>\n",
       "      <td>10000.00000</td>\n",
       "      <td>10000.000000</td>\n",
       "      <td>10000.0000</td>\n",
       "    </tr>\n",
       "    <tr>\n",
       "      <th>mean</th>\n",
       "      <td>37.991800</td>\n",
       "      <td>0.004666</td>\n",
       "      <td>0.497500</td>\n",
       "      <td>58004.335800</td>\n",
       "      <td>1.497000</td>\n",
       "      <td>2.00220</td>\n",
       "      <td>5.406800</td>\n",
       "      <td>0.0982</td>\n",
       "    </tr>\n",
       "    <tr>\n",
       "      <th>std</th>\n",
       "      <td>13.038203</td>\n",
       "      <td>0.000838</td>\n",
       "      <td>0.500019</td>\n",
       "      <td>17330.778355</td>\n",
       "      <td>0.500016</td>\n",
       "      <td>0.81784</td>\n",
       "      <td>5.046014</td>\n",
       "      <td>0.2976</td>\n",
       "    </tr>\n",
       "    <tr>\n",
       "      <th>min</th>\n",
       "      <td>16.000000</td>\n",
       "      <td>0.003171</td>\n",
       "      <td>0.000000</td>\n",
       "      <td>16241.000000</td>\n",
       "      <td>1.000000</td>\n",
       "      <td>1.00000</td>\n",
       "      <td>0.000000</td>\n",
       "      <td>0.0000</td>\n",
       "    </tr>\n",
       "    <tr>\n",
       "      <th>25%</th>\n",
       "      <td>27.000000</td>\n",
       "      <td>0.003995</td>\n",
       "      <td>0.000000</td>\n",
       "      <td>45533.500000</td>\n",
       "      <td>1.000000</td>\n",
       "      <td>1.00000</td>\n",
       "      <td>1.000000</td>\n",
       "      <td>0.0000</td>\n",
       "    </tr>\n",
       "    <tr>\n",
       "      <th>50%</th>\n",
       "      <td>38.000000</td>\n",
       "      <td>0.004625</td>\n",
       "      <td>0.000000</td>\n",
       "      <td>58053.500000</td>\n",
       "      <td>1.000000</td>\n",
       "      <td>2.00000</td>\n",
       "      <td>4.000000</td>\n",
       "      <td>0.0000</td>\n",
       "    </tr>\n",
       "    <tr>\n",
       "      <th>75%</th>\n",
       "      <td>49.000000</td>\n",
       "      <td>0.005164</td>\n",
       "      <td>1.000000</td>\n",
       "      <td>70235.250000</td>\n",
       "      <td>2.000000</td>\n",
       "      <td>3.00000</td>\n",
       "      <td>8.000000</td>\n",
       "      <td>0.0000</td>\n",
       "    </tr>\n",
       "    <tr>\n",
       "      <th>max</th>\n",
       "      <td>60.000000</td>\n",
       "      <td>0.007082</td>\n",
       "      <td>1.000000</td>\n",
       "      <td>99956.000000</td>\n",
       "      <td>2.000000</td>\n",
       "      <td>3.00000</td>\n",
       "      <td>22.000000</td>\n",
       "      <td>1.0000</td>\n",
       "    </tr>\n",
       "  </tbody>\n",
       "</table>\n",
       "</div>"
      ],
      "text/plain": [
       "                age    cost_of_ad  in_initial_launch_location        income  \\\n",
       "count  10000.000000  10000.000000                10000.000000  10000.000000   \n",
       "mean      37.991800      0.004666                    0.497500  58004.335800   \n",
       "std       13.038203      0.000838                    0.500019  17330.778355   \n",
       "min       16.000000      0.003171                    0.000000  16241.000000   \n",
       "25%       27.000000      0.003995                    0.000000  45533.500000   \n",
       "50%       38.000000      0.004625                    0.000000  58053.500000   \n",
       "75%       49.000000      0.005164                    1.000000  70235.250000   \n",
       "max       60.000000      0.007082                    1.000000  99956.000000   \n",
       "\n",
       "          n_drivers   n_vehicles  prior_ins_tenure     outcome  \n",
       "count  10000.000000  10000.00000      10000.000000  10000.0000  \n",
       "mean       1.497000      2.00220          5.406800      0.0982  \n",
       "std        0.500016      0.81784          5.046014      0.2976  \n",
       "min        1.000000      1.00000          0.000000      0.0000  \n",
       "25%        1.000000      1.00000          1.000000      0.0000  \n",
       "50%        1.000000      2.00000          4.000000      0.0000  \n",
       "75%        2.000000      3.00000          8.000000      0.0000  \n",
       "max        2.000000      3.00000         22.000000      1.0000  "
      ]
     },
     "execution_count": 8,
     "metadata": {},
     "output_type": "execute_result"
    }
   ],
   "source": [
    "train_data.describe()"
   ]
  },
  {
   "cell_type": "code",
   "execution_count": 9,
   "metadata": {},
   "outputs": [
    {
     "name": "stdout",
     "output_type": "stream",
     "text": [
      "<class 'pandas.core.frame.DataFrame'>\n",
      "RangeIndex: 10000 entries, 0 to 9999\n",
      "Data columns (total 10 columns):\n",
      " #   Column                      Non-Null Count  Dtype  \n",
      "---  ------                      --------------  -----  \n",
      " 0   age                         10000 non-null  int64  \n",
      " 1   cost_of_ad                  10000 non-null  float64\n",
      " 2   device_type                 10000 non-null  object \n",
      " 3   gender                      9731 non-null   object \n",
      " 4   in_initial_launch_location  10000 non-null  int64  \n",
      " 5   income                      10000 non-null  int64  \n",
      " 6   n_drivers                   10000 non-null  int64  \n",
      " 7   n_vehicles                  10000 non-null  int64  \n",
      " 8   prior_ins_tenure            10000 non-null  int64  \n",
      " 9   outcome                     10000 non-null  int64  \n",
      "dtypes: float64(1), int64(7), object(2)\n",
      "memory usage: 781.4+ KB\n"
     ]
    }
   ],
   "source": [
    "train_data.info()"
   ]
  },
  {
   "cell_type": "code",
   "execution_count": 10,
   "metadata": {},
   "outputs": [
    {
     "name": "stdout",
     "output_type": "stream",
     "text": [
      "<class 'pandas.core.frame.DataFrame'>\n",
      "RangeIndex: 10000 entries, 0 to 9999\n",
      "Data columns (total 9 columns):\n",
      " #   Column                      Non-Null Count  Dtype  \n",
      "---  ------                      --------------  -----  \n",
      " 0   age                         10000 non-null  int64  \n",
      " 1   cost_of_ad                  10000 non-null  float64\n",
      " 2   device_type                 10000 non-null  object \n",
      " 3   gender                      9751 non-null   object \n",
      " 4   in_initial_launch_location  10000 non-null  int64  \n",
      " 5   income                      10000 non-null  int64  \n",
      " 6   n_drivers                   10000 non-null  int64  \n",
      " 7   n_vehicles                  10000 non-null  int64  \n",
      " 8   prior_ins_tenure            10000 non-null  int64  \n",
      "dtypes: float64(1), int64(6), object(2)\n",
      "memory usage: 703.2+ KB\n"
     ]
    }
   ],
   "source": [
    "test_data.info()"
   ]
  },
  {
   "cell_type": "code",
   "execution_count": 11,
   "metadata": {},
   "outputs": [
    {
     "name": "stdout",
     "output_type": "stream",
     "text": [
      "['iPhone' 'desktop' 'laptop' 'Android' 'other']\n",
      "['M' 'F' nan]\n",
      "[0 1]\n",
      "[2 1]\n",
      "[1 3 2]\n",
      "[ 4  2  7  0  5  1 10  8  3  6 11 18  9 17 16 19 13 12 15 14 22 21 20]\n",
      "[0 1]\n"
     ]
    }
   ],
   "source": [
    "print(train_data['device_type'].unique())\n",
    "print(train_data['gender'].unique())\n",
    "print(train_data['in_initial_launch_location'].unique())\n",
    "print(train_data['n_drivers'].unique())\n",
    "print(train_data['n_vehicles'].unique())\n",
    "print(train_data['prior_ins_tenure'].unique())\n",
    "print(train_data['outcome'].unique())"
   ]
  },
  {
   "cell_type": "markdown",
   "metadata": {},
   "source": [
    "I check the unique values of seemingly categorical variables. I find there are 9 features available in which ${\\tt device\\_type}$, ${\\tt gender}$, ${\\tt in\\_initial\\_launch\\_location}$, ${\\tt n\\_drivers}$, ${\\tt n\\_vehicles}$ can be considered categorical variables while ${\\tt age}$, ${\\tt cost\\_of\\_ad}$, ${\\tt income}$, ${\\tt prior\\_ins\\_tenure}$ are quantitative variables. The variable ${\\tt outcome}$ is the categorical response I need to predict in the test data. \n",
    "\n",
    "The sample size is 10,000 for both traing data and test data. There are only missing data in the ${\\tt gender}$ column in both training data and test data. For now I change the null values to a third class named \"Unknown\".\n",
    "\n",
    "In practice, I will have a background about the data and know in advance if a variable is quantitative or categorical. I should also investigate why the data is missing since the missing data could represent a special class and the underlying process causing their missing can provide insights. But I will not investigate this problem this time."
   ]
  },
  {
   "cell_type": "code",
   "execution_count": 12,
   "metadata": {},
   "outputs": [],
   "source": [
    "def na_gender(train_data, test_data):\n",
    "    \"\"\"\n",
    "    Change the nan in 'gender' to \"Unknown\"\n",
    "    \n",
    "    Argumens:\n",
    "    - train_data: DataFrame object for training data\n",
    "    - test_data: DataFrame object for test data\n",
    "    \n",
    "    Returns:\n",
    "    - train_data: DataFrame object for training data\n",
    "    - test_data: DataFrame object for test data\n",
    "    \"\"\"\n",
    "    train_data['gender'].fillna('Unknown', inplace = True) \n",
    "    test_data['gender'].fillna('Unknown', inplace = True) \n",
    "    \n",
    "    return train_data, test_data"
   ]
  },
  {
   "cell_type": "code",
   "execution_count": 13,
   "metadata": {},
   "outputs": [],
   "source": [
    "train_data, test_data = na_gender(train_data, test_data)"
   ]
  },
  {
   "cell_type": "markdown",
   "metadata": {},
   "source": [
    "### 1.2 Exploratory Data Analysis"
   ]
  },
  {
   "cell_type": "code",
   "execution_count": 15,
   "metadata": {},
   "outputs": [
    {
     "data": {
      "image/png": "[encoded data removed]",
      "text/plain": [
       "<Figure size 569.9x518.4 with 14 Axes>"
      ]
     },
     "metadata": {},
     "output_type": "display_data"
    }
   ],
   "source": [
    "sns.pairplot(train_data,vars=['age','cost_of_ad','income','prior_ins_tenure'],hue = 'outcome',corner=True,height=1.8)\n",
    "plt.suptitle('Pair Plot of Quantitative Variables',size=20)\n",
    "plt.subplots_adjust(top=0.93, wspace=0.3)"
   ]
  },
  {
   "cell_type": "markdown",
   "metadata": {},
   "source": [
    "We can see ${\\tt age}$ and ${\\tt income}$ are strongly correlated while the correlations between other quantities are not clear. ${\\tt cost\\_of\\_ad}$ seems to make a difference in ${\\tt outcome}$ while the impact of other quantities are not strong."
   ]
  },
  {
   "cell_type": "code",
   "execution_count": 16,
   "metadata": {},
   "outputs": [
    {
     "data": {
      "text/plain": [
       "<matplotlib.axes._subplots.AxesSubplot at 0x115dffb38>"
      ]
     },
     "execution_count": 16,
     "metadata": {},
     "output_type": "execute_result"
    },
    {
     "data": {
      "image/png": "[encoded data removed]",
      "text/plain": [
       "<Figure size 1152x288 with 1 Axes>"
      ]
     },
     "metadata": {},
     "output_type": "display_data"
    },
    {
     "data": {
      "image/png": "[encoded data removed]",
      "text/plain": [
       "<Figure size 1152x288 with 1 Axes>"
      ]
     },
     "metadata": {},
     "output_type": "display_data"
    },
    {
     "data": {
      "image/png": "[encoded data removed]",
      "text/plain": [
       "<Figure size 1152x288 with 4 Axes>"
      ]
     },
     "metadata": {},
     "output_type": "display_data"
    },
    {
     "data": {
      "image/png": "[encoded data removed]",
      "text/plain": [
       "<Figure size 1152x288 with 4 Axes>"
      ]
     },
     "metadata": {},
     "output_type": "display_data"
    }
   ],
   "source": [
    "f = plt.figure(figsize=(16,4))\n",
    "sns.countplot(x='device_type', hue='outcome', data=train_data)\n",
    "f = plt.figure(figsize=(16,4))\n",
    "sns.violinplot(x='device_type', y='outcome', data=train_data)\n",
    "f, axes = plt.subplots(1, 4, sharey=True, figsize=(16,4))\n",
    "sns.countplot(x='gender', hue='outcome', data=train_data, ax=axes[0])\n",
    "sns.countplot(x='in_initial_launch_location', hue='outcome', data=train_data, ax=axes[1])\n",
    "sns.countplot(x='n_drivers', hue='outcome', data=train_data, ax=axes[2])\n",
    "sns.countplot(x='n_vehicles', hue='outcome', data=train_data, ax=axes[3])\n",
    "f, axes = plt.subplots(1, 4, sharey=True, figsize=(16,4))\n",
    "sns.violinplot(x='gender', y='outcome', data=train_data, ax=axes[0])\n",
    "sns.violinplot(x='in_initial_launch_location', y='outcome', data=train_data, ax=axes[1])\n",
    "sns.violinplot(x='n_drivers', y='outcome', data=train_data, ax=axes[2])\n",
    "sns.violinplot(x='n_vehicles', y='outcome', data=train_data, ax=axes[3])"
   ]
  },
  {
   "cell_type": "markdown",
   "metadata": {},
   "source": [
    "First, from the histgrams we can see the sample size of class ${\\tt outcome}=0$ is much larger than the class ${\\tt outcome}=1$. Second, from the violin plots we can more clearly see the categorical variables all have some influence on ${\\tt outcome}$. For example, data with ${\\tt device\\_type}$ of \"laptop\" and \"other\" are more likely to be in class 0 than \"desktop\" and \"Android\". "
   ]
  },
  {
   "cell_type": "code",
   "execution_count": 17,
   "metadata": {},
   "outputs": [
    {
     "data": {
      "text/plain": [
       "<matplotlib.axes._subplots.AxesSubplot at 0x1157f6438>"
      ]
     },
     "execution_count": 17,
     "metadata": {},
     "output_type": "execute_result"
    },
    {
     "data": {
      "image/png": "[encoded data removed]",
      "text/plain": [
       "<Figure size 1152x288 with 4 Axes>"
      ]
     },
     "metadata": {},
     "output_type": "display_data"
    },
    {
     "data": {
      "image/png": "[encoded data removed]",
      "text/plain": [
       "<Figure size 1152x288 with 4 Axes>"
      ]
     },
     "metadata": {},
     "output_type": "display_data"
    }
   ],
   "source": [
    "f, axes = plt.subplots(1, 4, figsize=(16,4))\n",
    "plt.subplots_adjust(top=0.93, wspace=0.5)\n",
    "sns.boxplot(x='outcome', y='age', data=train_data, ax=axes[0])\n",
    "sns.boxplot(x='outcome', y='cost_of_ad', data=train_data, ax=axes[1])\n",
    "sns.boxplot(x='outcome', y='income', data=train_data, ax=axes[2])\n",
    "sns.boxplot(x='outcome', y='prior_ins_tenure', data=train_data, ax=axes[3])\n",
    "f, axes = plt.subplots(1, 4, figsize=(16,4))\n",
    "plt.subplots_adjust(top=0.93, wspace=0.5)\n",
    "sns.violinplot(x='outcome', y='age', data=train_data, ax=axes[0])\n",
    "sns.violinplot(x='outcome', y='cost_of_ad', data=train_data, ax=axes[1])\n",
    "sns.violinplot(x='outcome', y='income', data=train_data, ax=axes[2])\n",
    "sns.violinplot(x='outcome', y='prior_ins_tenure', data=train_data, ax=axes[3])"
   ]
  },
  {
   "cell_type": "markdown",
   "metadata": {},
   "source": [
    "It seems ${\\tt cost\\_of\\_ad}$ and ${\\tt prior\\_ins\\_tenure}$ may make a difference in ${\\tt outcome}$ while ${\\tt age}$ and ${\\tt income}$ may not have much impact."
   ]
  },
  {
   "cell_type": "markdown",
   "metadata": {},
   "source": [
    "### 1.3 Data Preparation"
   ]
  },
  {
   "cell_type": "markdown",
   "metadata": {},
   "source": [
    "* Turn categorical variables into dummy codes."
   ]
  },
  {
   "cell_type": "code",
   "execution_count": 18,
   "metadata": {},
   "outputs": [],
   "source": [
    "def feature_dummy(train_data, test_data, cat_vars, drop=True):\n",
    "    \"\"\"\n",
    "    Turn categorical variables into dummy codes. Drop the first column by default.\n",
    "    \n",
    "    Arguments:\n",
    "    - train_data: DataFrame object for training data\n",
    "    - test_data: DataFrame object for test data\n",
    "    - cat_vars: list of categorical variables\n",
    "    - drop: bool, True to drop the first column.\n",
    "    \n",
    "    Returns:\n",
    "    - train_data_final: DataFrame object for training data\n",
    "    - test_data_final: DataFrame object for test data\n",
    "    \"\"\"\n",
    "    for var in cat_vars:\n",
    "        cat_list = pd.get_dummies(train_data[var], prefix=var, drop_first=drop)\n",
    "        train_data1=train_data.join(cat_list)\n",
    "        train_data=train_data1\n",
    "    data_vars=train_data.columns.values.tolist()\n",
    "    to_keep=[i for i in data_vars if i not in cat_vars]\n",
    "    train_data_final=train_data[to_keep]\n",
    "    print(train_data_final.columns.values)\n",
    "    \n",
    "    for var in cat_vars:\n",
    "        cat_list = pd.get_dummies(test_data[var], prefix=var, drop_first=drop)\n",
    "        test_data1=test_data.join(cat_list)\n",
    "        test_data=test_data1\n",
    "    data_vars=test_data.columns.values.tolist()\n",
    "    to_keep=[i for i in data_vars if i not in cat_vars]\n",
    "    test_data_final=test_data[to_keep]\n",
    "    print(test_data_final.columns.values)\n",
    "    \n",
    "    return train_data_final, test_data_final"
   ]
  },
  {
   "cell_type": "code",
   "execution_count": 19,
   "metadata": {},
   "outputs": [
    {
     "name": "stdout",
     "output_type": "stream",
     "text": [
      "['age' 'cost_of_ad' 'income' 'prior_ins_tenure' 'outcome'\n",
      " 'device_type_desktop' 'device_type_iPhone' 'device_type_laptop'\n",
      " 'device_type_other' 'gender_M' 'gender_Unknown'\n",
      " 'in_initial_launch_location_1' 'n_drivers_2' 'n_vehicles_2'\n",
      " 'n_vehicles_3']\n",
      "['age' 'cost_of_ad' 'income' 'prior_ins_tenure' 'device_type_desktop'\n",
      " 'device_type_iPhone' 'device_type_laptop' 'device_type_other' 'gender_M'\n",
      " 'gender_Unknown' 'in_initial_launch_location_1' 'n_drivers_2'\n",
      " 'n_vehicles_2' 'n_vehicles_3']\n"
     ]
    }
   ],
   "source": [
    "cat_vars=['device_type','gender','in_initial_launch_location','n_drivers', 'n_vehicles' ]\n",
    "train1, test1 = feature_dummy(train_data, test_data, cat_vars)"
   ]
  },
  {
   "cell_type": "markdown",
   "metadata": {},
   "source": [
    "* Shuffle and split training and validation sets."
   ]
  },
  {
   "cell_type": "code",
   "execution_count": 22,
   "metadata": {},
   "outputs": [],
   "source": [
    "def split(train_data_final,test_ratio):\n",
    "    \"\"\"\n",
    "    Shuffle and split training and validation sets.\n",
    "    \n",
    "    Arguments:\n",
    "    - train_data_final: DataFrame object for training data\n",
    "    - test_ratio: the splitting percentage of validation sets\n",
    "    \n",
    "    Returns:\n",
    "    - x_train: DataFrame, features of traning sets\n",
    "    - y_train: Series, labels of traning sets\n",
    "    - x_dev: DataFrame, features of validation sets\n",
    "    - y_dev: Series, labels of validation sets\n",
    "    \n",
    "    \"\"\"\n",
    "    train, dev = train_test_split(train_data_final, test_size=test_ratio, random_state=0)\n",
    "    y_train = train['outcome']\n",
    "    x_train = train.drop(['outcome'],axis=1, inplace=False)\n",
    "    y_dev = dev['outcome']\n",
    "    x_dev = dev.drop(['outcome'],axis=1, inplace=False)\n",
    "    \n",
    "    return x_train, y_train, x_dev, y_dev"
   ]
  },
  {
   "cell_type": "code",
   "execution_count": 23,
   "metadata": {},
   "outputs": [],
   "source": [
    "x_train, y_train, x_dev, y_dev = split(train1,0.3)"
   ]
  },
  {
   "cell_type": "markdown",
   "metadata": {},
   "source": [
    "* Select features by checking their p-values."
   ]
  },
  {
   "cell_type": "code",
   "execution_count": 24,
   "metadata": {},
   "outputs": [
    {
     "name": "stdout",
     "output_type": "stream",
     "text": [
      "['age', 'cost_of_ad', 'income', 'prior_ins_tenure', 'device_type_desktop', 'device_type_iPhone', 'device_type_laptop', 'device_type_other', 'gender_M', 'gender_Unknown', 'in_initial_launch_location_1', 'n_drivers_2', 'n_vehicles_2', 'n_vehicles_3']\n",
      "[7.37516647e-01 1.28111241e-09 3.04434248e-01 4.02580810e-02\n",
      " 7.81563228e-27 1.98362212e-01 1.38852555e-13 1.97222386e-19\n",
      " 7.27926458e-35 2.85549145e-03 7.19969854e-25 2.01744807e-17\n",
      " 9.37609165e-08 2.25020452e-26]\n"
     ]
    }
   ],
   "source": [
    "from sklearn.feature_selection import SelectKBest, f_classif\n",
    "print(list(x_train.columns))\n",
    "f_value, p_value = f_classif(x_train,y_train.values.ravel())\n",
    "print(p_value)"
   ]
  },
  {
   "cell_type": "markdown",
   "metadata": {},
   "source": [
    "We can see ${\\tt age}$ and ${\\tt income}$ are pretty insignificant, which is consistent with the results of EDA. In the category of ${\\tt device\\_type}$, it seems \"device_type_iPhone\" is also insignificant at 10% level . All the other predictors are significant at 5% level, which is consistent with the results of EDA. So we decided to remove ${\\tt age}$, ${\\tt income}$ and ${\\tt device\\_type\\_iPhone}$ as predictors. Note that there are 11 predictors left and 9 of them are categorical. "
   ]
  },
  {
   "cell_type": "code",
   "execution_count": 26,
   "metadata": {},
   "outputs": [],
   "source": [
    "def feature_drop(train_data, test_data, drop_var):\n",
    "    \"\"\"\n",
    "    Remove certain predictors.\n",
    "    \n",
    "    Arguments:\n",
    "    - train_data: DataFrame object for training data\n",
    "    - test_data: DataFrame object for test data\n",
    "    - drop_var: list of predictors to drop\n",
    "    \n",
    "    Returns:\n",
    "    - train_data_final: DataFrame object for training data\n",
    "    - test_data_final: DataFrame object for test data   \n",
    "    \"\"\"\n",
    "    \n",
    "    to_keep1 = train_data.columns.values.tolist()\n",
    "    for j in drop_var:\n",
    "        to_keep1.remove(j)\n",
    "    train_data_final=train_data[to_keep1] \n",
    "    \n",
    "    to_keep2 = test_data.columns.values.tolist()\n",
    "    for j in drop_var:\n",
    "        to_keep2.remove(j)\n",
    "    test_data_final=test_data[to_keep2] \n",
    "    print(train_data_final.columns.values)\n",
    "    \n",
    "    return train_data_final, test_data_final\n",
    "    "
   ]
  },
  {
   "cell_type": "code",
   "execution_count": 27,
   "metadata": {},
   "outputs": [
    {
     "name": "stdout",
     "output_type": "stream",
     "text": [
      "['cost_of_ad' 'prior_ins_tenure' 'outcome' 'device_type_desktop'\n",
      " 'device_type_laptop' 'device_type_other' 'gender_M' 'gender_Unknown'\n",
      " 'in_initial_launch_location_1' 'n_drivers_2' 'n_vehicles_2'\n",
      " 'n_vehicles_3']\n"
     ]
    }
   ],
   "source": [
    "drop_var = ['age', 'income', 'device_type_iPhone']\n",
    "train2, test2 = feature_drop(train1, test1, drop_var)"
   ]
  },
  {
   "cell_type": "markdown",
   "metadata": {},
   "source": [
    "* Scale continuous features."
   ]
  },
  {
   "cell_type": "code",
   "execution_count": 45,
   "metadata": {},
   "outputs": [],
   "source": [
    "def feature_scaling(train_data_final, test_data_final, quant_var):\n",
    "    \"\"\"\n",
    "    Standardize quantitative features.\n",
    "    \n",
    "    Arguments:\n",
    "    - train_data_final: DataFrame object for training data\n",
    "    - test_data_final: DataFrame object for test data \n",
    "    - quant_var: list of quantitative features\n",
    "    \n",
    "    Returns:\n",
    "    - train_data_final: DataFrame object for training data\n",
    "    - test_data_final: DataFrame object for test data \n",
    "    \"\"\"\n",
    "    scaler = StandardScaler()   \n",
    "    train_data_final.loc[:,quant_var] = scaler.fit_transform(train_data_final.loc[:,quant_var])\n",
    "    test_data_final.loc[:,quant_var] = scaler.fit_transform(test_data_final.loc[:,quant_var])\n",
    "    \n",
    "    return train_data_final, test_data_final"
   ]
  },
  {
   "cell_type": "code",
   "execution_count": 58,
   "metadata": {},
   "outputs": [
    {
     "name": "stderr",
     "output_type": "stream",
     "text": [
      "/usr/local/lib/python3.6/site-packages/pandas/core/indexing.py:965: SettingWithCopyWarning: \n",
      "A value is trying to be set on a copy of a slice from a DataFrame.\n",
      "Try using .loc[row_indexer,col_indexer] = value instead\n",
      "\n",
      "See the caveats in the documentation: https://pandas.pydata.org/pandas-docs/stable/user_guide/indexing.html#returning-a-view-versus-a-copy\n",
      "  self.obj[item] = s\n",
      "/usr/local/lib/python3.6/site-packages/pandas/core/indexing.py:965: SettingWithCopyWarning: \n",
      "A value is trying to be set on a copy of a slice from a DataFrame.\n",
      "Try using .loc[row_indexer,col_indexer] = value instead\n",
      "\n",
      "See the caveats in the documentation: https://pandas.pydata.org/pandas-docs/stable/user_guide/indexing.html#returning-a-view-versus-a-copy\n",
      "  self.obj[item] = s\n"
     ]
    }
   ],
   "source": [
    "train_final, test_final = feature_scaling(train2, test2, ['cost_of_ad', 'prior_ins_tenure'])\n",
    "x_train, y_train, x_dev, y_dev = split(train_final,0.3)"
   ]
  },
  {
   "cell_type": "markdown",
   "metadata": {},
   "source": [
    "## 2. Classification Model Building"
   ]
  },
  {
   "cell_type": "markdown",
   "metadata": {},
   "source": [
    "### 2.1 Logistic Regression"
   ]
  },
  {
   "cell_type": "code",
   "execution_count": 59,
   "metadata": {},
   "outputs": [],
   "source": [
    "from sklearn.linear_model import LogisticRegression\n",
    "from sklearn.metrics import accuracy_score,precision_score, recall_score, confusion_matrix, classification_report \n",
    "from sklearn.metrics import roc_auc_score\n",
    "from sklearn.metrics import roc_curve\n",
    "\n",
    "lr_model = LogisticRegression()\n",
    "\n",
    "result = lr_model.fit(x_train,y_train.values.ravel())\n",
    "y_pred = result.predict(x_dev)"
   ]
  },
  {
   "cell_type": "markdown",
   "metadata": {},
   "source": [
    "* Check confusion matrix."
   ]
  },
  {
   "cell_type": "code",
   "execution_count": 60,
   "metadata": {},
   "outputs": [],
   "source": [
    "def show_confusion(y_dev, y_pred):\n",
    "    \"\"\"\n",
    "    Print and plot the confusion matrix.\n",
    "    \n",
    "    Arguments:\n",
    "    - y_dev: series, true labels\n",
    "    - y_pred: series, predicted labels\n",
    "    \"\"\"\n",
    "    confusion = confusion_matrix(y_dev, y_pred)  \n",
    "    print(confusion)\n",
    "    class_names=[0,1] # name  of classes\n",
    "    fig, ax = plt.subplots()\n",
    "    tick_marks = np.arange(len(class_names))\n",
    "    plt.xticks(tick_marks, class_names)\n",
    "    plt.yticks(tick_marks, class_names)\n",
    "    # create heatmap\n",
    "    sns.heatmap(pd.DataFrame(confusion), annot=True, cmap=\"YlGnBu\" ,fmt='g')\n",
    "    ax.xaxis.set_label_position(\"top\")\n",
    "    plt.tight_layout()\n",
    "    plt.title('Confusion matrix', y=1.1)\n",
    "    plt.ylabel('Actual label')\n",
    "    plt.xlabel('Predicted label')"
   ]
  },
  {
   "cell_type": "code",
   "execution_count": 61,
   "metadata": {},
   "outputs": [
    {
     "name": "stdout",
     "output_type": "stream",
     "text": [
      "[[2656   12]\n",
      " [ 295   37]]\n"
     ]
    },
    {
     "data": {
      "image/png": "[encoded data removed]",
      "text/plain": [
       "<Figure size 432x288 with 2 Axes>"
      ]
     },
     "metadata": {},
     "output_type": "display_data"
    }
   ],
   "source": [
    "show_confusion(y_dev, y_pred)"
   ]
  },
  {
   "cell_type": "markdown",
   "metadata": {},
   "source": [
    "* Check coefficients and scores"
   ]
  },
  {
   "cell_type": "code",
   "execution_count": 56,
   "metadata": {},
   "outputs": [],
   "source": [
    "def show_roc(y_dev, y_proba):\n",
    "    \"\"\"\n",
    "    Plot ROC and calculate AUC.\n",
    "    \n",
    "    Arguments:\n",
    "    - y_dev:series,  true labels\n",
    "    - y_proba: series, predicted probabilities of Class 1\n",
    "    \"\"\"\n",
    "    logit_roc_auc = roc_auc_score(y_dev, y_proba)\n",
    "    fpr, tpr, thresholds = roc_curve(y_dev, y_proba)\n",
    "    plt.figure()\n",
    "    plt.plot(fpr, tpr, label='Logistic Regression (area = %0.3f)' % logit_roc_auc)\n",
    "    plt.plot([0, 1], [0, 1],'r--')\n",
    "    plt.xlim([0.0, 1.0])\n",
    "    plt.ylim([0.0, 1.05])\n",
    "    plt.xlabel('False Positive Rate')\n",
    "    plt.ylabel('True Positive Rate')\n",
    "    plt.title('Receiver operating characteristic')\n",
    "    plt.legend(loc=\"lower right\")"
   ]
  },
  {
   "cell_type": "code",
   "execution_count": 62,
   "metadata": {},
   "outputs": [
    {
     "data": {
      "image/png": "[encoded data removed]",
      "text/plain": [
       "<Figure size 432x288 with 1 Axes>"
      ]
     },
     "metadata": {},
     "output_type": "display_data"
    }
   ],
   "source": [
    "show_roc(y_dev, result.predict_proba(x_dev)[:,1])"
   ]
  },
  {
   "cell_type": "code",
   "execution_count": 53,
   "metadata": {},
   "outputs": [
    {
     "name": "stdout",
     "output_type": "stream",
     "text": [
      "['cost_of_ad', 'prior_ins_tenure', 'device_type_desktop', 'device_type_laptop', 'device_type_other', 'gender_M', 'gender_Unknown', 'in_initial_launch_location_1', 'n_drivers_2', 'n_vehicles_2', 'n_vehicles_3']\n",
      "[[-0.11840225 -0.09898854  0.42686376 -1.27914697 -1.56928626  1.07548205\n",
      "  -0.4469899   1.04876419  0.87320989 -1.14817331 -1.77333103]]\n",
      "Accuracy: 0.8976666666666666\n",
      "Precision: 0.7551020408163265\n",
      "Recall: 0.11144578313253012\n",
      "              precision    recall  f1-score   support\n",
      "\n",
      "           0       0.90      1.00      0.95      2668\n",
      "           1       0.76      0.11      0.19       332\n",
      "\n",
      "    accuracy                           0.90      3000\n",
      "   macro avg       0.83      0.55      0.57      3000\n",
      "weighted avg       0.88      0.90      0.86      3000\n",
      "\n"
     ]
    }
   ],
   "source": [
    "print(list(x_train.columns))\n",
    "print(result.coef_)\n",
    "\n",
    "print(\"Accuracy:\",accuracy_score(y_dev, y_pred))\n",
    "print(\"Precision:\",precision_score(y_dev, y_pred))\n",
    "print(\"Recall:\",recall_score(y_dev, y_pred))\n",
    "print(classification_report(y_dev, y_pred) )\n"
   ]
  },
  {
   "cell_type": "markdown",
   "metadata": {},
   "source": [
    "The signs of the coefficients are consistent with the results from EDA. We can see the overall accuracy is good but the recall is pretty low."
   ]
  },
  {
   "cell_type": "markdown",
   "metadata": {},
   "source": [
    "* Check the training error rate."
   ]
  },
  {
   "cell_type": "code",
   "execution_count": 63,
   "metadata": {},
   "outputs": [
    {
     "name": "stdout",
     "output_type": "stream",
     "text": [
      "0.912\n",
      "0.67\n",
      "0.10307692307692308\n"
     ]
    }
   ],
   "source": [
    "yy = result.predict(x_train)\n",
    "print(accuracy_score(y_train,yy))\n",
    "print(precision_score(y_train,yy))\n",
    "print(recall_score(y_train,yy))"
   ]
  },
  {
   "cell_type": "markdown",
   "metadata": {},
   "source": [
    "The accuracy scores of the training sets and validation sets are pretty close. The model is more likely to have high bias."
   ]
  },
  {
   "cell_type": "markdown",
   "metadata": {},
   "source": [
    "* Try decreasing the regularization to see if the model inproves."
   ]
  },
  {
   "cell_type": "code",
   "execution_count": 65,
   "metadata": {},
   "outputs": [],
   "source": [
    "lr_model = LogisticRegression(C=100)\n",
    "\n",
    "result = lr_model.fit(x_train,y_train.values.ravel())\n",
    "y_pred = result.predict(x_dev)"
   ]
  },
  {
   "cell_type": "code",
   "execution_count": 66,
   "metadata": {},
   "outputs": [
    {
     "data": {
      "image/png": "[encoded data removed]",
      "text/plain": [
       "<Figure size 432x288 with 1 Axes>"
      ]
     },
     "metadata": {},
     "output_type": "display_data"
    }
   ],
   "source": [
    "show_roc(y_dev, result.predict_proba(x_dev)[:,1])"
   ]
  },
  {
   "cell_type": "code",
   "execution_count": 67,
   "metadata": {},
   "outputs": [
    {
     "name": "stdout",
     "output_type": "stream",
     "text": [
      "Accuracy: 0.899\n",
      "Precision: 0.7735849056603774\n",
      "Recall: 0.12349397590361445\n",
      "              precision    recall  f1-score   support\n",
      "\n",
      "           0       0.90      1.00      0.95      2668\n",
      "           1       0.77      0.12      0.21       332\n",
      "\n",
      "    accuracy                           0.90      3000\n",
      "   macro avg       0.84      0.56      0.58      3000\n",
      "weighted avg       0.89      0.90      0.86      3000\n",
      "\n"
     ]
    }
   ],
   "source": [
    "print(\"Accuracy:\",accuracy_score(y_dev, y_pred))\n",
    "print(\"Precision:\",precision_score(y_dev, y_pred))\n",
    "print(\"Recall:\",recall_score(y_dev, y_pred))\n",
    "print(classification_report(y_dev, y_pred) )"
   ]
  },
  {
   "cell_type": "markdown",
   "metadata": {},
   "source": [
    "The improvement is really tiny. Consider trying another method."
   ]
  },
  {
   "cell_type": "markdown",
   "metadata": {},
   "source": [
    "### 2.2 CatBoost "
   ]
  },
  {
   "cell_type": "code",
   "execution_count": 68,
   "metadata": {},
   "outputs": [
    {
     "name": "stdout",
     "output_type": "stream",
     "text": [
      "Learning rate set to 0.023648\n",
      "0:\tlearn: 0.6667545\ttotal: 61.2ms\tremaining: 1m 1s\n",
      "1:\tlearn: 0.6399285\ttotal: 64.8ms\tremaining: 32.4s\n",
      "2:\tlearn: 0.6184300\ttotal: 67.9ms\tremaining: 22.6s\n",
      "3:\tlearn: 0.5980224\ttotal: 71.2ms\tremaining: 17.7s\n",
      "4:\tlearn: 0.5738645\ttotal: 74.4ms\tremaining: 14.8s\n",
      "5:\tlearn: 0.5568828\ttotal: 77ms\tremaining: 12.8s\n",
      "6:\tlearn: 0.5392785\ttotal: 80.1ms\tremaining: 11.4s\n",
      "7:\tlearn: 0.5228449\ttotal: 82.8ms\tremaining: 10.3s\n",
      "8:\tlearn: 0.5082680\ttotal: 85.9ms\tremaining: 9.46s\n",
      "9:\tlearn: 0.4958257\ttotal: 88ms\tremaining: 8.71s\n",
      "10:\tlearn: 0.4824742\ttotal: 91.1ms\tremaining: 8.19s\n",
      "11:\tlearn: 0.4704134\ttotal: 93.3ms\tremaining: 7.68s\n",
      "12:\tlearn: 0.4576791\ttotal: 96.5ms\tremaining: 7.32s\n",
      "13:\tlearn: 0.4452297\ttotal: 99.5ms\tremaining: 7.01s\n",
      "14:\tlearn: 0.4347632\ttotal: 103ms\tremaining: 6.74s\n",
      "15:\tlearn: 0.4229338\ttotal: 106ms\tremaining: 6.51s\n",
      "16:\tlearn: 0.4144751\ttotal: 109ms\tremaining: 6.32s\n",
      "17:\tlearn: 0.4035406\ttotal: 113ms\tremaining: 6.14s\n",
      "18:\tlearn: 0.3955094\ttotal: 115ms\tremaining: 5.95s\n",
      "19:\tlearn: 0.3857611\ttotal: 118ms\tremaining: 5.8s\n",
      "20:\tlearn: 0.3801915\ttotal: 121ms\tremaining: 5.62s\n",
      "21:\tlearn: 0.3747775\ttotal: 123ms\tremaining: 5.48s\n",
      "22:\tlearn: 0.3689156\ttotal: 126ms\tremaining: 5.37s\n",
      "23:\tlearn: 0.3641121\ttotal: 128ms\tremaining: 5.22s\n",
      "24:\tlearn: 0.3572164\ttotal: 131ms\tremaining: 5.13s\n",
      "25:\tlearn: 0.3526557\ttotal: 134ms\tremaining: 5.01s\n",
      "26:\tlearn: 0.3476942\ttotal: 137ms\tremaining: 4.94s\n",
      "27:\tlearn: 0.3415543\ttotal: 140ms\tremaining: 4.87s\n",
      "28:\tlearn: 0.3366544\ttotal: 143ms\tremaining: 4.8s\n",
      "29:\tlearn: 0.3320545\ttotal: 147ms\tremaining: 4.75s\n",
      "30:\tlearn: 0.3272788\ttotal: 150ms\tremaining: 4.69s\n",
      "31:\tlearn: 0.3228246\ttotal: 154ms\tremaining: 4.66s\n",
      "32:\tlearn: 0.3187795\ttotal: 157ms\tremaining: 4.61s\n",
      "33:\tlearn: 0.3159848\ttotal: 167ms\tremaining: 4.74s\n",
      "34:\tlearn: 0.3121044\ttotal: 172ms\tremaining: 4.74s\n",
      "35:\tlearn: 0.3099188\ttotal: 179ms\tremaining: 4.79s\n",
      "36:\tlearn: 0.3078130\ttotal: 185ms\tremaining: 4.81s\n",
      "37:\tlearn: 0.3034749\ttotal: 193ms\tremaining: 4.88s\n",
      "38:\tlearn: 0.3014632\ttotal: 198ms\tremaining: 4.88s\n",
      "39:\tlearn: 0.2987288\ttotal: 202ms\tremaining: 4.85s\n",
      "40:\tlearn: 0.2966552\ttotal: 205ms\tremaining: 4.8s\n",
      "41:\tlearn: 0.2934148\ttotal: 218ms\tremaining: 4.97s\n",
      "42:\tlearn: 0.2920738\ttotal: 223ms\tremaining: 4.95s\n",
      "43:\tlearn: 0.2892401\ttotal: 232ms\tremaining: 5.05s\n",
      "44:\tlearn: 0.2878829\ttotal: 236ms\tremaining: 5.01s\n",
      "45:\tlearn: 0.2858848\ttotal: 239ms\tremaining: 4.96s\n",
      "46:\tlearn: 0.2834241\ttotal: 254ms\tremaining: 5.14s\n",
      "47:\tlearn: 0.2813093\ttotal: 260ms\tremaining: 5.15s\n",
      "48:\tlearn: 0.2804630\ttotal: 263ms\tremaining: 5.11s\n",
      "49:\tlearn: 0.2787192\ttotal: 267ms\tremaining: 5.08s\n",
      "50:\tlearn: 0.2765372\ttotal: 271ms\tremaining: 5.04s\n",
      "51:\tlearn: 0.2746631\ttotal: 276ms\tremaining: 5.04s\n",
      "52:\tlearn: 0.2735873\ttotal: 282ms\tremaining: 5.04s\n",
      "53:\tlearn: 0.2717495\ttotal: 289ms\tremaining: 5.07s\n",
      "54:\tlearn: 0.2705888\ttotal: 295ms\tremaining: 5.07s\n",
      "55:\tlearn: 0.2687355\ttotal: 298ms\tremaining: 5.03s\n",
      "56:\tlearn: 0.2667443\ttotal: 308ms\tremaining: 5.1s\n",
      "57:\tlearn: 0.2649100\ttotal: 313ms\tremaining: 5.08s\n",
      "58:\tlearn: 0.2634866\ttotal: 326ms\tremaining: 5.2s\n",
      "59:\tlearn: 0.2620327\ttotal: 329ms\tremaining: 5.16s\n",
      "60:\tlearn: 0.2604162\ttotal: 335ms\tremaining: 5.16s\n",
      "61:\tlearn: 0.2592322\ttotal: 342ms\tremaining: 5.17s\n",
      "62:\tlearn: 0.2585006\ttotal: 345ms\tremaining: 5.13s\n",
      "63:\tlearn: 0.2574794\ttotal: 357ms\tremaining: 5.21s\n",
      "64:\tlearn: 0.2563835\ttotal: 364ms\tremaining: 5.23s\n",
      "65:\tlearn: 0.2551715\ttotal: 373ms\tremaining: 5.28s\n",
      "66:\tlearn: 0.2541161\ttotal: 381ms\tremaining: 5.3s\n",
      "67:\tlearn: 0.2529087\ttotal: 389ms\tremaining: 5.33s\n",
      "68:\tlearn: 0.2517240\ttotal: 403ms\tremaining: 5.44s\n",
      "69:\tlearn: 0.2510075\ttotal: 419ms\tremaining: 5.56s\n",
      "70:\tlearn: 0.2502878\ttotal: 422ms\tremaining: 5.53s\n",
      "71:\tlearn: 0.2495377\ttotal: 426ms\tremaining: 5.49s\n",
      "72:\tlearn: 0.2485631\ttotal: 438ms\tremaining: 5.55s\n",
      "73:\tlearn: 0.2477052\ttotal: 442ms\tremaining: 5.53s\n",
      "74:\tlearn: 0.2468309\ttotal: 453ms\tremaining: 5.58s\n",
      "75:\tlearn: 0.2463908\ttotal: 456ms\tremaining: 5.54s\n",
      "76:\tlearn: 0.2455647\ttotal: 464ms\tremaining: 5.57s\n",
      "77:\tlearn: 0.2447272\ttotal: 469ms\tremaining: 5.54s\n",
      "78:\tlearn: 0.2440238\ttotal: 472ms\tremaining: 5.5s\n",
      "79:\tlearn: 0.2439221\ttotal: 474ms\tremaining: 5.46s\n",
      "80:\tlearn: 0.2433961\ttotal: 481ms\tremaining: 5.45s\n",
      "81:\tlearn: 0.2426997\ttotal: 484ms\tremaining: 5.42s\n",
      "82:\tlearn: 0.2420421\ttotal: 487ms\tremaining: 5.38s\n",
      "83:\tlearn: 0.2414212\ttotal: 494ms\tremaining: 5.38s\n",
      "84:\tlearn: 0.2408519\ttotal: 498ms\tremaining: 5.36s\n",
      "85:\tlearn: 0.2403379\ttotal: 501ms\tremaining: 5.32s\n",
      "86:\tlearn: 0.2397932\ttotal: 507ms\tremaining: 5.32s\n",
      "87:\tlearn: 0.2392512\ttotal: 514ms\tremaining: 5.32s\n",
      "88:\tlearn: 0.2388895\ttotal: 517ms\tremaining: 5.29s\n",
      "89:\tlearn: 0.2385337\ttotal: 525ms\tremaining: 5.31s\n",
      "90:\tlearn: 0.2381004\ttotal: 529ms\tremaining: 5.29s\n",
      "91:\tlearn: 0.2376494\ttotal: 532ms\tremaining: 5.25s\n",
      "92:\tlearn: 0.2372730\ttotal: 538ms\tremaining: 5.25s\n",
      "93:\tlearn: 0.2367426\ttotal: 543ms\tremaining: 5.23s\n",
      "94:\tlearn: 0.2362761\ttotal: 546ms\tremaining: 5.2s\n",
      "95:\tlearn: 0.2358593\ttotal: 555ms\tremaining: 5.22s\n",
      "96:\tlearn: 0.2354801\ttotal: 562ms\tremaining: 5.23s\n",
      "97:\tlearn: 0.2350152\ttotal: 570ms\tremaining: 5.24s\n",
      "98:\tlearn: 0.2346386\ttotal: 577ms\tremaining: 5.25s\n",
      "99:\tlearn: 0.2342034\ttotal: 593ms\tremaining: 5.33s\n",
      "100:\tlearn: 0.2338164\ttotal: 604ms\tremaining: 5.37s\n",
      "101:\tlearn: 0.2334089\ttotal: 608ms\tremaining: 5.35s\n",
      "102:\tlearn: 0.2329606\ttotal: 612ms\tremaining: 5.33s\n",
      "103:\tlearn: 0.2326897\ttotal: 616ms\tremaining: 5.31s\n",
      "104:\tlearn: 0.2322915\ttotal: 627ms\tremaining: 5.34s\n",
      "105:\tlearn: 0.2321254\ttotal: 631ms\tremaining: 5.32s\n",
      "106:\tlearn: 0.2318394\ttotal: 635ms\tremaining: 5.3s\n",
      "107:\tlearn: 0.2316541\ttotal: 639ms\tremaining: 5.28s\n",
      "108:\tlearn: 0.2314579\ttotal: 643ms\tremaining: 5.25s\n",
      "109:\tlearn: 0.2311952\ttotal: 648ms\tremaining: 5.24s\n",
      "110:\tlearn: 0.2309860\ttotal: 651ms\tremaining: 5.21s\n",
      "111:\tlearn: 0.2306296\ttotal: 654ms\tremaining: 5.19s\n",
      "112:\tlearn: 0.2303351\ttotal: 657ms\tremaining: 5.16s\n",
      "113:\tlearn: 0.2300352\ttotal: 661ms\tremaining: 5.13s\n",
      "114:\tlearn: 0.2296349\ttotal: 664ms\tremaining: 5.11s\n",
      "115:\tlearn: 0.2292387\ttotal: 667ms\tremaining: 5.09s\n",
      "116:\tlearn: 0.2290145\ttotal: 671ms\tremaining: 5.06s\n",
      "117:\tlearn: 0.2287492\ttotal: 675ms\tremaining: 5.04s\n",
      "118:\tlearn: 0.2284894\ttotal: 678ms\tremaining: 5.02s\n",
      "119:\tlearn: 0.2282501\ttotal: 681ms\tremaining: 4.99s\n",
      "120:\tlearn: 0.2279957\ttotal: 684ms\tremaining: 4.97s\n",
      "121:\tlearn: 0.2277092\ttotal: 687ms\tremaining: 4.95s\n",
      "122:\tlearn: 0.2274345\ttotal: 690ms\tremaining: 4.92s\n",
      "123:\tlearn: 0.2271211\ttotal: 694ms\tremaining: 4.9s\n",
      "124:\tlearn: 0.2267763\ttotal: 697ms\tremaining: 4.88s\n",
      "125:\tlearn: 0.2265147\ttotal: 700ms\tremaining: 4.86s\n",
      "126:\tlearn: 0.2262275\ttotal: 703ms\tremaining: 4.83s\n",
      "127:\tlearn: 0.2259770\ttotal: 707ms\tremaining: 4.81s\n",
      "128:\tlearn: 0.2257164\ttotal: 711ms\tremaining: 4.8s\n",
      "129:\tlearn: 0.2255026\ttotal: 714ms\tremaining: 4.78s\n",
      "130:\tlearn: 0.2253004\ttotal: 717ms\tremaining: 4.76s\n",
      "131:\tlearn: 0.2251509\ttotal: 721ms\tremaining: 4.74s\n",
      "132:\tlearn: 0.2249126\ttotal: 724ms\tremaining: 4.72s\n",
      "133:\tlearn: 0.2246341\ttotal: 729ms\tremaining: 4.71s\n",
      "134:\tlearn: 0.2244010\ttotal: 733ms\tremaining: 4.69s\n",
      "135:\tlearn: 0.2242331\ttotal: 742ms\tremaining: 4.71s\n",
      "136:\tlearn: 0.2240497\ttotal: 749ms\tremaining: 4.72s\n",
      "137:\tlearn: 0.2238414\ttotal: 756ms\tremaining: 4.72s\n",
      "138:\tlearn: 0.2236899\ttotal: 760ms\tremaining: 4.71s\n",
      "139:\tlearn: 0.2235427\ttotal: 767ms\tremaining: 4.71s\n",
      "140:\tlearn: 0.2233634\ttotal: 789ms\tremaining: 4.81s\n",
      "141:\tlearn: 0.2231893\ttotal: 825ms\tremaining: 4.99s\n",
      "142:\tlearn: 0.2229843\ttotal: 841ms\tremaining: 5.04s\n",
      "143:\tlearn: 0.2228004\ttotal: 848ms\tremaining: 5.04s\n",
      "144:\tlearn: 0.2226031\ttotal: 853ms\tremaining: 5.03s\n",
      "145:\tlearn: 0.2224926\ttotal: 869ms\tremaining: 5.08s\n",
      "146:\tlearn: 0.2222703\ttotal: 885ms\tremaining: 5.13s\n",
      "147:\tlearn: 0.2220455\ttotal: 893ms\tremaining: 5.14s\n",
      "148:\tlearn: 0.2219163\ttotal: 898ms\tremaining: 5.13s\n",
      "149:\tlearn: 0.2217321\ttotal: 904ms\tremaining: 5.12s\n",
      "150:\tlearn: 0.2215170\ttotal: 927ms\tremaining: 5.21s\n",
      "151:\tlearn: 0.2213550\ttotal: 934ms\tremaining: 5.21s\n",
      "152:\tlearn: 0.2212324\ttotal: 977ms\tremaining: 5.41s\n",
      "153:\tlearn: 0.2210254\ttotal: 984ms\tremaining: 5.4s\n",
      "154:\tlearn: 0.2208383\ttotal: 1.01s\tremaining: 5.49s\n",
      "155:\tlearn: 0.2206978\ttotal: 1.01s\tremaining: 5.48s\n",
      "156:\tlearn: 0.2205808\ttotal: 1.02s\tremaining: 5.47s\n",
      "157:\tlearn: 0.2203672\ttotal: 1.02s\tremaining: 5.44s\n",
      "158:\tlearn: 0.2202474\ttotal: 1.02s\tremaining: 5.42s\n",
      "159:\tlearn: 0.2200792\ttotal: 1.03s\tremaining: 5.4s\n",
      "160:\tlearn: 0.2199721\ttotal: 1.03s\tremaining: 5.38s\n",
      "161:\tlearn: 0.2198096\ttotal: 1.03s\tremaining: 5.36s\n",
      "162:\tlearn: 0.2196891\ttotal: 1.04s\tremaining: 5.33s\n",
      "163:\tlearn: 0.2195217\ttotal: 1.04s\tremaining: 5.31s\n",
      "164:\tlearn: 0.2193882\ttotal: 1.04s\tremaining: 5.29s\n",
      "165:\tlearn: 0.2192919\ttotal: 1.05s\tremaining: 5.27s\n",
      "166:\tlearn: 0.2191697\ttotal: 1.05s\tremaining: 5.25s\n",
      "167:\tlearn: 0.2190603\ttotal: 1.05s\tremaining: 5.23s\n",
      "168:\tlearn: 0.2188990\ttotal: 1.06s\tremaining: 5.22s\n",
      "169:\tlearn: 0.2187846\ttotal: 1.07s\tremaining: 5.21s\n",
      "170:\tlearn: 0.2186168\ttotal: 1.07s\tremaining: 5.19s\n",
      "171:\tlearn: 0.2184585\ttotal: 1.07s\tremaining: 5.18s\n",
      "172:\tlearn: 0.2183956\ttotal: 1.09s\tremaining: 5.21s\n",
      "173:\tlearn: 0.2182859\ttotal: 1.1s\tremaining: 5.22s\n",
      "174:\tlearn: 0.2180857\ttotal: 1.1s\tremaining: 5.21s\n",
      "175:\tlearn: 0.2179493\ttotal: 1.11s\tremaining: 5.22s\n"
     ]
    },
    {
     "name": "stdout",
     "output_type": "stream",
     "text": [
      "176:\tlearn: 0.2178667\ttotal: 1.12s\tremaining: 5.21s\n",
      "177:\tlearn: 0.2177721\ttotal: 1.13s\tremaining: 5.22s\n",
      "178:\tlearn: 0.2175962\ttotal: 1.14s\tremaining: 5.22s\n",
      "179:\tlearn: 0.2174282\ttotal: 1.15s\tremaining: 5.22s\n",
      "180:\tlearn: 0.2172916\ttotal: 1.15s\tremaining: 5.22s\n",
      "181:\tlearn: 0.2171399\ttotal: 1.16s\tremaining: 5.21s\n",
      "182:\tlearn: 0.2170995\ttotal: 1.16s\tremaining: 5.19s\n",
      "183:\tlearn: 0.2169877\ttotal: 1.17s\tremaining: 5.17s\n",
      "184:\tlearn: 0.2169030\ttotal: 1.18s\tremaining: 5.19s\n",
      "185:\tlearn: 0.2167891\ttotal: 1.19s\tremaining: 5.19s\n",
      "186:\tlearn: 0.2166886\ttotal: 1.19s\tremaining: 5.18s\n",
      "187:\tlearn: 0.2165712\ttotal: 1.2s\tremaining: 5.16s\n",
      "188:\tlearn: 0.2164526\ttotal: 1.2s\tremaining: 5.15s\n",
      "189:\tlearn: 0.2163886\ttotal: 1.2s\tremaining: 5.13s\n",
      "190:\tlearn: 0.2162663\ttotal: 1.21s\tremaining: 5.11s\n",
      "191:\tlearn: 0.2162564\ttotal: 1.21s\tremaining: 5.08s\n",
      "192:\tlearn: 0.2161906\ttotal: 1.21s\tremaining: 5.07s\n",
      "193:\tlearn: 0.2160512\ttotal: 1.22s\tremaining: 5.05s\n",
      "194:\tlearn: 0.2159156\ttotal: 1.22s\tremaining: 5.03s\n",
      "195:\tlearn: 0.2157513\ttotal: 1.22s\tremaining: 5.01s\n",
      "196:\tlearn: 0.2156324\ttotal: 1.23s\tremaining: 5s\n",
      "197:\tlearn: 0.2155422\ttotal: 1.23s\tremaining: 4.98s\n",
      "198:\tlearn: 0.2153422\ttotal: 1.23s\tremaining: 4.96s\n",
      "199:\tlearn: 0.2153325\ttotal: 1.24s\tremaining: 4.94s\n",
      "200:\tlearn: 0.2152779\ttotal: 1.24s\tremaining: 4.92s\n",
      "201:\tlearn: 0.2152060\ttotal: 1.24s\tremaining: 4.91s\n",
      "202:\tlearn: 0.2151223\ttotal: 1.25s\tremaining: 4.89s\n",
      "203:\tlearn: 0.2150335\ttotal: 1.25s\tremaining: 4.88s\n",
      "204:\tlearn: 0.2149372\ttotal: 1.25s\tremaining: 4.86s\n",
      "205:\tlearn: 0.2148494\ttotal: 1.26s\tremaining: 4.86s\n",
      "206:\tlearn: 0.2147378\ttotal: 1.26s\tremaining: 4.85s\n",
      "207:\tlearn: 0.2146416\ttotal: 1.27s\tremaining: 4.84s\n",
      "208:\tlearn: 0.2145113\ttotal: 1.27s\tremaining: 4.82s\n",
      "209:\tlearn: 0.2143226\ttotal: 1.28s\tremaining: 4.82s\n",
      "210:\tlearn: 0.2142308\ttotal: 1.28s\tremaining: 4.81s\n",
      "211:\tlearn: 0.2140664\ttotal: 1.29s\tremaining: 4.79s\n",
      "212:\tlearn: 0.2140089\ttotal: 1.29s\tremaining: 4.78s\n",
      "213:\tlearn: 0.2139089\ttotal: 1.3s\tremaining: 4.76s\n",
      "214:\tlearn: 0.2137493\ttotal: 1.3s\tremaining: 4.75s\n",
      "215:\tlearn: 0.2136018\ttotal: 1.3s\tremaining: 4.73s\n",
      "216:\tlearn: 0.2134803\ttotal: 1.31s\tremaining: 4.73s\n",
      "217:\tlearn: 0.2133904\ttotal: 1.31s\tremaining: 4.72s\n",
      "218:\tlearn: 0.2132841\ttotal: 1.32s\tremaining: 4.71s\n",
      "219:\tlearn: 0.2131551\ttotal: 1.33s\tremaining: 4.7s\n",
      "220:\tlearn: 0.2130741\ttotal: 1.33s\tremaining: 4.69s\n",
      "221:\tlearn: 0.2129698\ttotal: 1.33s\tremaining: 4.67s\n",
      "222:\tlearn: 0.2128631\ttotal: 1.34s\tremaining: 4.67s\n",
      "223:\tlearn: 0.2127305\ttotal: 1.34s\tremaining: 4.65s\n",
      "224:\tlearn: 0.2126293\ttotal: 1.35s\tremaining: 4.64s\n",
      "225:\tlearn: 0.2126231\ttotal: 1.35s\tremaining: 4.62s\n",
      "226:\tlearn: 0.2125184\ttotal: 1.35s\tremaining: 4.6s\n",
      "227:\tlearn: 0.2124494\ttotal: 1.35s\tremaining: 4.59s\n",
      "228:\tlearn: 0.2123707\ttotal: 1.36s\tremaining: 4.57s\n",
      "229:\tlearn: 0.2123677\ttotal: 1.36s\tremaining: 4.55s\n",
      "230:\tlearn: 0.2122875\ttotal: 1.36s\tremaining: 4.54s\n",
      "231:\tlearn: 0.2122537\ttotal: 1.37s\tremaining: 4.52s\n",
      "232:\tlearn: 0.2121599\ttotal: 1.37s\tremaining: 4.51s\n",
      "233:\tlearn: 0.2120059\ttotal: 1.37s\tremaining: 4.49s\n",
      "234:\tlearn: 0.2118710\ttotal: 1.38s\tremaining: 4.48s\n",
      "235:\tlearn: 0.2117602\ttotal: 1.38s\tremaining: 4.46s\n",
      "236:\tlearn: 0.2116691\ttotal: 1.38s\tremaining: 4.45s\n",
      "237:\tlearn: 0.2115856\ttotal: 1.39s\tremaining: 4.44s\n",
      "238:\tlearn: 0.2115223\ttotal: 1.39s\tremaining: 4.42s\n",
      "239:\tlearn: 0.2114232\ttotal: 1.39s\tremaining: 4.41s\n",
      "240:\tlearn: 0.2114146\ttotal: 1.4s\tremaining: 4.39s\n",
      "241:\tlearn: 0.2113120\ttotal: 1.4s\tremaining: 4.38s\n",
      "242:\tlearn: 0.2112427\ttotal: 1.4s\tremaining: 4.37s\n",
      "243:\tlearn: 0.2111814\ttotal: 1.41s\tremaining: 4.36s\n",
      "244:\tlearn: 0.2111222\ttotal: 1.41s\tremaining: 4.34s\n",
      "245:\tlearn: 0.2110613\ttotal: 1.41s\tremaining: 4.33s\n",
      "246:\tlearn: 0.2110429\ttotal: 1.42s\tremaining: 4.32s\n",
      "247:\tlearn: 0.2109578\ttotal: 1.42s\tremaining: 4.3s\n",
      "248:\tlearn: 0.2108358\ttotal: 1.42s\tremaining: 4.29s\n",
      "249:\tlearn: 0.2107493\ttotal: 1.43s\tremaining: 4.28s\n",
      "250:\tlearn: 0.2105745\ttotal: 1.43s\tremaining: 4.26s\n",
      "251:\tlearn: 0.2104800\ttotal: 1.43s\tremaining: 4.25s\n",
      "252:\tlearn: 0.2104171\ttotal: 1.44s\tremaining: 4.24s\n",
      "253:\tlearn: 0.2103797\ttotal: 1.44s\tremaining: 4.22s\n",
      "254:\tlearn: 0.2103117\ttotal: 1.44s\tremaining: 4.21s\n",
      "255:\tlearn: 0.2102464\ttotal: 1.44s\tremaining: 4.2s\n",
      "256:\tlearn: 0.2102247\ttotal: 1.45s\tremaining: 4.18s\n",
      "257:\tlearn: 0.2101573\ttotal: 1.45s\tremaining: 4.17s\n",
      "258:\tlearn: 0.2100315\ttotal: 1.45s\tremaining: 4.16s\n",
      "259:\tlearn: 0.2099597\ttotal: 1.46s\tremaining: 4.15s\n",
      "260:\tlearn: 0.2098791\ttotal: 1.46s\tremaining: 4.13s\n",
      "261:\tlearn: 0.2097917\ttotal: 1.46s\tremaining: 4.12s\n",
      "262:\tlearn: 0.2097251\ttotal: 1.47s\tremaining: 4.11s\n",
      "263:\tlearn: 0.2096436\ttotal: 1.47s\tremaining: 4.1s\n",
      "264:\tlearn: 0.2095933\ttotal: 1.47s\tremaining: 4.08s\n",
      "265:\tlearn: 0.2094740\ttotal: 1.48s\tremaining: 4.07s\n",
      "266:\tlearn: 0.2093566\ttotal: 1.48s\tremaining: 4.06s\n",
      "267:\tlearn: 0.2093047\ttotal: 1.48s\tremaining: 4.05s\n",
      "268:\tlearn: 0.2091675\ttotal: 1.49s\tremaining: 4.04s\n",
      "269:\tlearn: 0.2091034\ttotal: 1.49s\tremaining: 4.04s\n",
      "270:\tlearn: 0.2090025\ttotal: 1.5s\tremaining: 4.03s\n",
      "271:\tlearn: 0.2089326\ttotal: 1.51s\tremaining: 4.05s\n",
      "272:\tlearn: 0.2088553\ttotal: 1.53s\tremaining: 4.06s\n",
      "273:\tlearn: 0.2088547\ttotal: 1.54s\tremaining: 4.08s\n",
      "274:\tlearn: 0.2087768\ttotal: 1.55s\tremaining: 4.08s\n",
      "275:\tlearn: 0.2086985\ttotal: 1.56s\tremaining: 4.1s\n",
      "276:\tlearn: 0.2086047\ttotal: 1.58s\tremaining: 4.12s\n",
      "277:\tlearn: 0.2085580\ttotal: 1.6s\tremaining: 4.17s\n",
      "278:\tlearn: 0.2084943\ttotal: 1.61s\tremaining: 4.17s\n",
      "279:\tlearn: 0.2084222\ttotal: 1.62s\tremaining: 4.18s\n",
      "280:\tlearn: 0.2083707\ttotal: 1.64s\tremaining: 4.2s\n",
      "281:\tlearn: 0.2082591\ttotal: 1.65s\tremaining: 4.21s\n",
      "282:\tlearn: 0.2082001\ttotal: 1.66s\tremaining: 4.2s\n",
      "283:\tlearn: 0.2081592\ttotal: 1.67s\tremaining: 4.2s\n",
      "284:\tlearn: 0.2081460\ttotal: 1.67s\tremaining: 4.19s\n",
      "285:\tlearn: 0.2080918\ttotal: 1.67s\tremaining: 4.18s\n",
      "286:\tlearn: 0.2079894\ttotal: 1.68s\tremaining: 4.18s\n",
      "287:\tlearn: 0.2079050\ttotal: 1.69s\tremaining: 4.18s\n",
      "288:\tlearn: 0.2078274\ttotal: 1.7s\tremaining: 4.18s\n",
      "289:\tlearn: 0.2077187\ttotal: 1.71s\tremaining: 4.18s\n",
      "290:\tlearn: 0.2076576\ttotal: 1.72s\tremaining: 4.19s\n",
      "291:\tlearn: 0.2076459\ttotal: 1.72s\tremaining: 4.18s\n",
      "292:\tlearn: 0.2075270\ttotal: 1.73s\tremaining: 4.17s\n",
      "293:\tlearn: 0.2074890\ttotal: 1.73s\tremaining: 4.16s\n",
      "294:\tlearn: 0.2074344\ttotal: 1.74s\tremaining: 4.17s\n",
      "295:\tlearn: 0.2074341\ttotal: 1.75s\tremaining: 4.15s\n",
      "296:\tlearn: 0.2073379\ttotal: 1.75s\tremaining: 4.14s\n",
      "297:\tlearn: 0.2072366\ttotal: 1.76s\tremaining: 4.14s\n",
      "298:\tlearn: 0.2071633\ttotal: 1.76s\tremaining: 4.13s\n",
      "299:\tlearn: 0.2070934\ttotal: 1.77s\tremaining: 4.14s\n",
      "300:\tlearn: 0.2069940\ttotal: 1.78s\tremaining: 4.13s\n",
      "301:\tlearn: 0.2069049\ttotal: 1.78s\tremaining: 4.12s\n",
      "302:\tlearn: 0.2068440\ttotal: 1.79s\tremaining: 4.12s\n",
      "303:\tlearn: 0.2067418\ttotal: 1.8s\tremaining: 4.11s\n",
      "304:\tlearn: 0.2067348\ttotal: 1.8s\tremaining: 4.11s\n",
      "305:\tlearn: 0.2066805\ttotal: 1.81s\tremaining: 4.1s\n",
      "306:\tlearn: 0.2066134\ttotal: 1.81s\tremaining: 4.09s\n",
      "307:\tlearn: 0.2065117\ttotal: 1.82s\tremaining: 4.09s\n",
      "308:\tlearn: 0.2064469\ttotal: 1.82s\tremaining: 4.08s\n",
      "309:\tlearn: 0.2063530\ttotal: 1.83s\tremaining: 4.07s\n",
      "310:\tlearn: 0.2063415\ttotal: 1.83s\tremaining: 4.06s\n",
      "311:\tlearn: 0.2063206\ttotal: 1.84s\tremaining: 4.05s\n",
      "312:\tlearn: 0.2062384\ttotal: 1.84s\tremaining: 4.04s\n",
      "313:\tlearn: 0.2061462\ttotal: 1.84s\tremaining: 4.03s\n",
      "314:\tlearn: 0.2060729\ttotal: 1.85s\tremaining: 4.03s\n",
      "315:\tlearn: 0.2059847\ttotal: 1.85s\tremaining: 4.01s\n",
      "316:\tlearn: 0.2058792\ttotal: 1.86s\tremaining: 4s\n",
      "317:\tlearn: 0.2058331\ttotal: 1.86s\tremaining: 4s\n",
      "318:\tlearn: 0.2057574\ttotal: 1.87s\tremaining: 3.99s\n",
      "319:\tlearn: 0.2057010\ttotal: 1.87s\tremaining: 3.98s\n",
      "320:\tlearn: 0.2056470\ttotal: 1.87s\tremaining: 3.96s\n",
      "321:\tlearn: 0.2056373\ttotal: 1.88s\tremaining: 3.97s\n",
      "322:\tlearn: 0.2055973\ttotal: 1.89s\tremaining: 3.96s\n",
      "323:\tlearn: 0.2055027\ttotal: 1.89s\tremaining: 3.94s\n",
      "324:\tlearn: 0.2054293\ttotal: 1.9s\tremaining: 3.95s\n",
      "325:\tlearn: 0.2053733\ttotal: 1.91s\tremaining: 3.94s\n",
      "326:\tlearn: 0.2052569\ttotal: 1.91s\tremaining: 3.94s\n",
      "327:\tlearn: 0.2052173\ttotal: 1.92s\tremaining: 3.93s\n",
      "328:\tlearn: 0.2051616\ttotal: 1.92s\tremaining: 3.92s\n",
      "329:\tlearn: 0.2050941\ttotal: 1.93s\tremaining: 3.91s\n",
      "330:\tlearn: 0.2050195\ttotal: 1.93s\tremaining: 3.91s\n",
      "331:\tlearn: 0.2049231\ttotal: 1.94s\tremaining: 3.9s\n",
      "332:\tlearn: 0.2048554\ttotal: 1.94s\tremaining: 3.89s\n",
      "333:\tlearn: 0.2048063\ttotal: 1.95s\tremaining: 3.88s\n",
      "334:\tlearn: 0.2047251\ttotal: 1.95s\tremaining: 3.87s\n",
      "335:\tlearn: 0.2046526\ttotal: 1.95s\tremaining: 3.86s\n",
      "336:\tlearn: 0.2045687\ttotal: 1.96s\tremaining: 3.85s\n",
      "337:\tlearn: 0.2044528\ttotal: 1.96s\tremaining: 3.84s\n",
      "338:\tlearn: 0.2043936\ttotal: 1.96s\tremaining: 3.83s\n",
      "339:\tlearn: 0.2043132\ttotal: 1.97s\tremaining: 3.82s\n",
      "340:\tlearn: 0.2041906\ttotal: 1.98s\tremaining: 3.82s\n",
      "341:\tlearn: 0.2041156\ttotal: 1.98s\tremaining: 3.81s\n",
      "342:\tlearn: 0.2040188\ttotal: 1.98s\tremaining: 3.8s\n",
      "343:\tlearn: 0.2039770\ttotal: 1.99s\tremaining: 3.79s\n",
      "344:\tlearn: 0.2038889\ttotal: 1.99s\tremaining: 3.78s\n",
      "345:\tlearn: 0.2038155\ttotal: 2s\tremaining: 3.77s\n",
      "346:\tlearn: 0.2037311\ttotal: 2s\tremaining: 3.76s\n",
      "347:\tlearn: 0.2036749\ttotal: 2s\tremaining: 3.76s\n",
      "348:\tlearn: 0.2035954\ttotal: 2.01s\tremaining: 3.75s\n",
      "349:\tlearn: 0.2035487\ttotal: 2.01s\tremaining: 3.74s\n",
      "350:\tlearn: 0.2034977\ttotal: 2.02s\tremaining: 3.73s\n",
      "351:\tlearn: 0.2034384\ttotal: 2.02s\tremaining: 3.72s\n",
      "352:\tlearn: 0.2033885\ttotal: 2.02s\tremaining: 3.71s\n",
      "353:\tlearn: 0.2033158\ttotal: 2.03s\tremaining: 3.7s\n",
      "354:\tlearn: 0.2033033\ttotal: 2.03s\tremaining: 3.69s\n",
      "355:\tlearn: 0.2032285\ttotal: 2.04s\tremaining: 3.68s\n",
      "356:\tlearn: 0.2031620\ttotal: 2.04s\tremaining: 3.67s\n",
      "357:\tlearn: 0.2031368\ttotal: 2.04s\tremaining: 3.66s\n",
      "358:\tlearn: 0.2030883\ttotal: 2.05s\tremaining: 3.66s\n",
      "359:\tlearn: 0.2030180\ttotal: 2.05s\tremaining: 3.65s\n",
      "360:\tlearn: 0.2029410\ttotal: 2.06s\tremaining: 3.64s\n",
      "361:\tlearn: 0.2028719\ttotal: 2.06s\tremaining: 3.63s\n",
      "362:\tlearn: 0.2027928\ttotal: 2.06s\tremaining: 3.62s\n",
      "363:\tlearn: 0.2027176\ttotal: 2.07s\tremaining: 3.61s\n"
     ]
    },
    {
     "name": "stdout",
     "output_type": "stream",
     "text": [
      "364:\tlearn: 0.2026178\ttotal: 2.07s\tremaining: 3.6s\n",
      "365:\tlearn: 0.2025137\ttotal: 2.08s\tremaining: 3.6s\n",
      "366:\tlearn: 0.2024468\ttotal: 2.08s\tremaining: 3.59s\n",
      "367:\tlearn: 0.2023550\ttotal: 2.09s\tremaining: 3.59s\n",
      "368:\tlearn: 0.2022885\ttotal: 2.1s\tremaining: 3.59s\n",
      "369:\tlearn: 0.2022186\ttotal: 2.1s\tremaining: 3.58s\n",
      "370:\tlearn: 0.2021291\ttotal: 2.11s\tremaining: 3.57s\n",
      "371:\tlearn: 0.2020749\ttotal: 2.11s\tremaining: 3.57s\n",
      "372:\tlearn: 0.2020277\ttotal: 2.12s\tremaining: 3.56s\n",
      "373:\tlearn: 0.2019651\ttotal: 2.12s\tremaining: 3.55s\n",
      "374:\tlearn: 0.2018964\ttotal: 2.13s\tremaining: 3.55s\n",
      "375:\tlearn: 0.2018299\ttotal: 2.13s\tremaining: 3.54s\n",
      "376:\tlearn: 0.2017673\ttotal: 2.14s\tremaining: 3.53s\n",
      "377:\tlearn: 0.2016956\ttotal: 2.14s\tremaining: 3.52s\n",
      "378:\tlearn: 0.2016431\ttotal: 2.15s\tremaining: 3.52s\n",
      "379:\tlearn: 0.2015704\ttotal: 2.15s\tremaining: 3.51s\n",
      "380:\tlearn: 0.2014625\ttotal: 2.15s\tremaining: 3.5s\n",
      "381:\tlearn: 0.2014015\ttotal: 2.16s\tremaining: 3.49s\n",
      "382:\tlearn: 0.2013574\ttotal: 2.16s\tremaining: 3.48s\n",
      "383:\tlearn: 0.2012923\ttotal: 2.16s\tremaining: 3.47s\n",
      "384:\tlearn: 0.2011801\ttotal: 2.17s\tremaining: 3.46s\n",
      "385:\tlearn: 0.2010778\ttotal: 2.17s\tremaining: 3.45s\n",
      "386:\tlearn: 0.2009631\ttotal: 2.17s\tremaining: 3.44s\n",
      "387:\tlearn: 0.2008762\ttotal: 2.18s\tremaining: 3.44s\n",
      "388:\tlearn: 0.2007867\ttotal: 2.18s\tremaining: 3.43s\n",
      "389:\tlearn: 0.2006985\ttotal: 2.19s\tremaining: 3.43s\n",
      "390:\tlearn: 0.2006489\ttotal: 2.19s\tremaining: 3.42s\n",
      "391:\tlearn: 0.2005784\ttotal: 2.2s\tremaining: 3.41s\n",
      "392:\tlearn: 0.2005478\ttotal: 2.2s\tremaining: 3.4s\n",
      "393:\tlearn: 0.2005023\ttotal: 2.21s\tremaining: 3.39s\n",
      "394:\tlearn: 0.2004588\ttotal: 2.21s\tremaining: 3.39s\n",
      "395:\tlearn: 0.2003630\ttotal: 2.21s\tremaining: 3.38s\n",
      "396:\tlearn: 0.2002819\ttotal: 2.22s\tremaining: 3.37s\n",
      "397:\tlearn: 0.2002422\ttotal: 2.22s\tremaining: 3.36s\n",
      "398:\tlearn: 0.2001672\ttotal: 2.23s\tremaining: 3.35s\n",
      "399:\tlearn: 0.2001486\ttotal: 2.23s\tremaining: 3.35s\n",
      "400:\tlearn: 0.2000287\ttotal: 2.24s\tremaining: 3.34s\n",
      "401:\tlearn: 0.1999774\ttotal: 2.24s\tremaining: 3.34s\n",
      "402:\tlearn: 0.1998589\ttotal: 2.25s\tremaining: 3.34s\n",
      "403:\tlearn: 0.1997889\ttotal: 2.26s\tremaining: 3.33s\n",
      "404:\tlearn: 0.1997429\ttotal: 2.29s\tremaining: 3.36s\n",
      "405:\tlearn: 0.1996293\ttotal: 2.3s\tremaining: 3.36s\n",
      "406:\tlearn: 0.1995649\ttotal: 2.3s\tremaining: 3.35s\n",
      "407:\tlearn: 0.1994793\ttotal: 2.31s\tremaining: 3.35s\n",
      "408:\tlearn: 0.1994111\ttotal: 2.32s\tremaining: 3.35s\n",
      "409:\tlearn: 0.1993324\ttotal: 2.32s\tremaining: 3.34s\n",
      "410:\tlearn: 0.1992467\ttotal: 2.33s\tremaining: 3.34s\n",
      "411:\tlearn: 0.1992211\ttotal: 2.34s\tremaining: 3.33s\n",
      "412:\tlearn: 0.1991512\ttotal: 2.35s\tremaining: 3.34s\n",
      "413:\tlearn: 0.1990908\ttotal: 2.35s\tremaining: 3.33s\n",
      "414:\tlearn: 0.1989842\ttotal: 2.37s\tremaining: 3.34s\n",
      "415:\tlearn: 0.1989051\ttotal: 2.38s\tremaining: 3.34s\n",
      "416:\tlearn: 0.1988173\ttotal: 2.38s\tremaining: 3.33s\n",
      "417:\tlearn: 0.1987560\ttotal: 2.39s\tremaining: 3.33s\n",
      "418:\tlearn: 0.1986760\ttotal: 2.4s\tremaining: 3.32s\n",
      "419:\tlearn: 0.1985972\ttotal: 2.46s\tremaining: 3.39s\n",
      "420:\tlearn: 0.1985070\ttotal: 2.51s\tremaining: 3.45s\n",
      "421:\tlearn: 0.1984462\ttotal: 2.51s\tremaining: 3.44s\n",
      "422:\tlearn: 0.1983495\ttotal: 2.52s\tremaining: 3.44s\n",
      "423:\tlearn: 0.1982731\ttotal: 2.53s\tremaining: 3.43s\n",
      "424:\tlearn: 0.1982037\ttotal: 2.54s\tremaining: 3.43s\n",
      "425:\tlearn: 0.1981170\ttotal: 2.54s\tremaining: 3.42s\n",
      "426:\tlearn: 0.1980250\ttotal: 2.55s\tremaining: 3.42s\n",
      "427:\tlearn: 0.1979699\ttotal: 2.55s\tremaining: 3.41s\n",
      "428:\tlearn: 0.1979084\ttotal: 2.56s\tremaining: 3.41s\n",
      "429:\tlearn: 0.1978294\ttotal: 2.57s\tremaining: 3.4s\n",
      "430:\tlearn: 0.1977555\ttotal: 2.57s\tremaining: 3.4s\n",
      "431:\tlearn: 0.1976428\ttotal: 2.58s\tremaining: 3.39s\n",
      "432:\tlearn: 0.1975508\ttotal: 2.59s\tremaining: 3.39s\n",
      "433:\tlearn: 0.1974998\ttotal: 2.59s\tremaining: 3.38s\n",
      "434:\tlearn: 0.1974296\ttotal: 2.6s\tremaining: 3.38s\n",
      "435:\tlearn: 0.1973817\ttotal: 2.6s\tremaining: 3.37s\n",
      "436:\tlearn: 0.1972952\ttotal: 2.61s\tremaining: 3.37s\n",
      "437:\tlearn: 0.1972478\ttotal: 2.62s\tremaining: 3.36s\n",
      "438:\tlearn: 0.1971687\ttotal: 2.63s\tremaining: 3.35s\n",
      "439:\tlearn: 0.1970697\ttotal: 2.63s\tremaining: 3.35s\n",
      "440:\tlearn: 0.1969560\ttotal: 2.63s\tremaining: 3.34s\n",
      "441:\tlearn: 0.1969047\ttotal: 2.64s\tremaining: 3.33s\n",
      "442:\tlearn: 0.1968243\ttotal: 2.65s\tremaining: 3.34s\n",
      "443:\tlearn: 0.1967414\ttotal: 2.67s\tremaining: 3.34s\n",
      "444:\tlearn: 0.1966549\ttotal: 2.67s\tremaining: 3.33s\n",
      "445:\tlearn: 0.1966166\ttotal: 2.67s\tremaining: 3.32s\n",
      "446:\tlearn: 0.1965647\ttotal: 2.68s\tremaining: 3.31s\n",
      "447:\tlearn: 0.1964853\ttotal: 2.69s\tremaining: 3.31s\n",
      "448:\tlearn: 0.1963903\ttotal: 2.7s\tremaining: 3.31s\n",
      "449:\tlearn: 0.1963221\ttotal: 2.72s\tremaining: 3.33s\n",
      "450:\tlearn: 0.1962532\ttotal: 2.72s\tremaining: 3.32s\n",
      "451:\tlearn: 0.1961835\ttotal: 2.73s\tremaining: 3.31s\n",
      "452:\tlearn: 0.1961192\ttotal: 2.75s\tremaining: 3.32s\n",
      "453:\tlearn: 0.1960434\ttotal: 2.76s\tremaining: 3.31s\n",
      "454:\tlearn: 0.1959792\ttotal: 2.77s\tremaining: 3.32s\n",
      "455:\tlearn: 0.1959132\ttotal: 2.78s\tremaining: 3.32s\n",
      "456:\tlearn: 0.1958445\ttotal: 2.79s\tremaining: 3.31s\n",
      "457:\tlearn: 0.1958009\ttotal: 2.79s\tremaining: 3.3s\n",
      "458:\tlearn: 0.1957441\ttotal: 2.8s\tremaining: 3.3s\n",
      "459:\tlearn: 0.1956822\ttotal: 2.8s\tremaining: 3.29s\n",
      "460:\tlearn: 0.1956013\ttotal: 2.81s\tremaining: 3.29s\n",
      "461:\tlearn: 0.1955444\ttotal: 2.82s\tremaining: 3.28s\n",
      "462:\tlearn: 0.1954657\ttotal: 2.82s\tremaining: 3.27s\n",
      "463:\tlearn: 0.1953899\ttotal: 2.83s\tremaining: 3.27s\n",
      "464:\tlearn: 0.1952965\ttotal: 2.83s\tremaining: 3.26s\n",
      "465:\tlearn: 0.1952135\ttotal: 2.84s\tremaining: 3.25s\n",
      "466:\tlearn: 0.1951526\ttotal: 2.84s\tremaining: 3.25s\n",
      "467:\tlearn: 0.1950912\ttotal: 2.85s\tremaining: 3.24s\n",
      "468:\tlearn: 0.1950301\ttotal: 2.86s\tremaining: 3.23s\n",
      "469:\tlearn: 0.1949671\ttotal: 2.86s\tremaining: 3.22s\n",
      "470:\tlearn: 0.1948812\ttotal: 2.86s\tremaining: 3.21s\n",
      "471:\tlearn: 0.1948226\ttotal: 2.87s\tremaining: 3.21s\n",
      "472:\tlearn: 0.1947485\ttotal: 2.87s\tremaining: 3.2s\n",
      "473:\tlearn: 0.1946914\ttotal: 2.87s\tremaining: 3.19s\n",
      "474:\tlearn: 0.1946079\ttotal: 2.88s\tremaining: 3.18s\n",
      "475:\tlearn: 0.1945545\ttotal: 2.88s\tremaining: 3.17s\n",
      "476:\tlearn: 0.1944738\ttotal: 2.88s\tremaining: 3.16s\n",
      "477:\tlearn: 0.1944188\ttotal: 2.89s\tremaining: 3.15s\n",
      "478:\tlearn: 0.1943521\ttotal: 2.89s\tremaining: 3.15s\n",
      "479:\tlearn: 0.1942887\ttotal: 2.9s\tremaining: 3.14s\n",
      "480:\tlearn: 0.1942488\ttotal: 2.9s\tremaining: 3.13s\n",
      "481:\tlearn: 0.1942071\ttotal: 2.9s\tremaining: 3.12s\n",
      "482:\tlearn: 0.1941264\ttotal: 2.9s\tremaining: 3.11s\n",
      "483:\tlearn: 0.1940566\ttotal: 2.91s\tremaining: 3.1s\n",
      "484:\tlearn: 0.1940016\ttotal: 2.91s\tremaining: 3.09s\n",
      "485:\tlearn: 0.1939658\ttotal: 2.92s\tremaining: 3.08s\n",
      "486:\tlearn: 0.1938782\ttotal: 2.92s\tremaining: 3.07s\n",
      "487:\tlearn: 0.1937872\ttotal: 2.92s\tremaining: 3.07s\n",
      "488:\tlearn: 0.1937175\ttotal: 2.92s\tremaining: 3.06s\n",
      "489:\tlearn: 0.1936482\ttotal: 2.93s\tremaining: 3.05s\n",
      "490:\tlearn: 0.1935894\ttotal: 2.93s\tremaining: 3.04s\n",
      "491:\tlearn: 0.1935140\ttotal: 2.94s\tremaining: 3.04s\n",
      "492:\tlearn: 0.1934562\ttotal: 2.95s\tremaining: 3.03s\n",
      "493:\tlearn: 0.1934007\ttotal: 2.96s\tremaining: 3.03s\n",
      "494:\tlearn: 0.1933194\ttotal: 2.96s\tremaining: 3.02s\n",
      "495:\tlearn: 0.1932488\ttotal: 2.97s\tremaining: 3.01s\n",
      "496:\tlearn: 0.1931964\ttotal: 2.97s\tremaining: 3s\n",
      "497:\tlearn: 0.1931386\ttotal: 2.98s\tremaining: 3s\n",
      "498:\tlearn: 0.1930556\ttotal: 2.98s\tremaining: 3s\n",
      "499:\tlearn: 0.1929887\ttotal: 3s\tremaining: 3s\n",
      "500:\tlearn: 0.1929384\ttotal: 3s\tremaining: 2.99s\n",
      "501:\tlearn: 0.1928500\ttotal: 3.01s\tremaining: 2.99s\n",
      "502:\tlearn: 0.1927716\ttotal: 3.02s\tremaining: 2.98s\n",
      "503:\tlearn: 0.1927259\ttotal: 3.04s\tremaining: 2.99s\n",
      "504:\tlearn: 0.1926857\ttotal: 3.04s\tremaining: 2.98s\n",
      "505:\tlearn: 0.1926305\ttotal: 3.05s\tremaining: 2.98s\n",
      "506:\tlearn: 0.1925551\ttotal: 3.05s\tremaining: 2.97s\n",
      "507:\tlearn: 0.1925025\ttotal: 3.06s\tremaining: 2.96s\n",
      "508:\tlearn: 0.1924615\ttotal: 3.07s\tremaining: 2.96s\n",
      "509:\tlearn: 0.1924043\ttotal: 3.08s\tremaining: 2.96s\n",
      "510:\tlearn: 0.1923430\ttotal: 3.09s\tremaining: 2.95s\n",
      "511:\tlearn: 0.1922642\ttotal: 3.09s\tremaining: 2.95s\n",
      "512:\tlearn: 0.1921998\ttotal: 3.09s\tremaining: 2.94s\n",
      "513:\tlearn: 0.1921500\ttotal: 3.1s\tremaining: 2.93s\n",
      "514:\tlearn: 0.1920975\ttotal: 3.11s\tremaining: 2.93s\n",
      "515:\tlearn: 0.1920449\ttotal: 3.12s\tremaining: 2.92s\n",
      "516:\tlearn: 0.1919981\ttotal: 3.12s\tremaining: 2.92s\n",
      "517:\tlearn: 0.1919645\ttotal: 3.13s\tremaining: 2.92s\n",
      "518:\tlearn: 0.1919103\ttotal: 3.14s\tremaining: 2.91s\n",
      "519:\tlearn: 0.1918445\ttotal: 3.15s\tremaining: 2.9s\n",
      "520:\tlearn: 0.1917738\ttotal: 3.15s\tremaining: 2.9s\n",
      "521:\tlearn: 0.1917090\ttotal: 3.16s\tremaining: 2.89s\n",
      "522:\tlearn: 0.1916877\ttotal: 3.17s\tremaining: 2.89s\n",
      "523:\tlearn: 0.1916452\ttotal: 3.17s\tremaining: 2.88s\n",
      "524:\tlearn: 0.1915524\ttotal: 3.18s\tremaining: 2.88s\n",
      "525:\tlearn: 0.1915169\ttotal: 3.19s\tremaining: 2.87s\n",
      "526:\tlearn: 0.1914283\ttotal: 3.2s\tremaining: 2.87s\n",
      "527:\tlearn: 0.1913611\ttotal: 3.2s\tremaining: 2.86s\n"
     ]
    },
    {
     "name": "stdout",
     "output_type": "stream",
     "text": [
      "528:\tlearn: 0.1913146\ttotal: 3.21s\tremaining: 2.86s\n",
      "529:\tlearn: 0.1912659\ttotal: 3.22s\tremaining: 2.86s\n",
      "530:\tlearn: 0.1912038\ttotal: 3.23s\tremaining: 2.85s\n",
      "531:\tlearn: 0.1911276\ttotal: 3.23s\tremaining: 2.84s\n",
      "532:\tlearn: 0.1910788\ttotal: 3.23s\tremaining: 2.83s\n",
      "533:\tlearn: 0.1910330\ttotal: 3.24s\tremaining: 2.83s\n",
      "534:\tlearn: 0.1909749\ttotal: 3.24s\tremaining: 2.82s\n",
      "535:\tlearn: 0.1909263\ttotal: 3.25s\tremaining: 2.81s\n",
      "536:\tlearn: 0.1908823\ttotal: 3.25s\tremaining: 2.8s\n",
      "537:\tlearn: 0.1908116\ttotal: 3.25s\tremaining: 2.79s\n",
      "538:\tlearn: 0.1907499\ttotal: 3.26s\tremaining: 2.79s\n",
      "539:\tlearn: 0.1907107\ttotal: 3.26s\tremaining: 2.78s\n",
      "540:\tlearn: 0.1906728\ttotal: 3.26s\tremaining: 2.77s\n",
      "541:\tlearn: 0.1906239\ttotal: 3.27s\tremaining: 2.76s\n",
      "542:\tlearn: 0.1905709\ttotal: 3.27s\tremaining: 2.75s\n",
      "543:\tlearn: 0.1905045\ttotal: 3.27s\tremaining: 2.74s\n",
      "544:\tlearn: 0.1904331\ttotal: 3.28s\tremaining: 2.74s\n",
      "545:\tlearn: 0.1903694\ttotal: 3.28s\tremaining: 2.73s\n",
      "546:\tlearn: 0.1903312\ttotal: 3.28s\tremaining: 2.72s\n",
      "547:\tlearn: 0.1902865\ttotal: 3.29s\tremaining: 2.71s\n",
      "548:\tlearn: 0.1902208\ttotal: 3.29s\tremaining: 2.7s\n",
      "549:\tlearn: 0.1901525\ttotal: 3.29s\tremaining: 2.69s\n",
      "550:\tlearn: 0.1900976\ttotal: 3.3s\tremaining: 2.69s\n",
      "551:\tlearn: 0.1900434\ttotal: 3.3s\tremaining: 2.68s\n",
      "552:\tlearn: 0.1899861\ttotal: 3.3s\tremaining: 2.67s\n",
      "553:\tlearn: 0.1899472\ttotal: 3.31s\tremaining: 2.66s\n",
      "554:\tlearn: 0.1899069\ttotal: 3.31s\tremaining: 2.65s\n",
      "555:\tlearn: 0.1898457\ttotal: 3.31s\tremaining: 2.65s\n",
      "556:\tlearn: 0.1897904\ttotal: 3.32s\tremaining: 2.64s\n",
      "557:\tlearn: 0.1897528\ttotal: 3.32s\tremaining: 2.63s\n",
      "558:\tlearn: 0.1897123\ttotal: 3.33s\tremaining: 2.62s\n",
      "559:\tlearn: 0.1896434\ttotal: 3.33s\tremaining: 2.62s\n",
      "560:\tlearn: 0.1895766\ttotal: 3.33s\tremaining: 2.61s\n",
      "561:\tlearn: 0.1895428\ttotal: 3.34s\tremaining: 2.6s\n",
      "562:\tlearn: 0.1894872\ttotal: 3.34s\tremaining: 2.59s\n",
      "563:\tlearn: 0.1894557\ttotal: 3.34s\tremaining: 2.58s\n",
      "564:\tlearn: 0.1894098\ttotal: 3.35s\tremaining: 2.58s\n",
      "565:\tlearn: 0.1893650\ttotal: 3.35s\tremaining: 2.57s\n",
      "566:\tlearn: 0.1893288\ttotal: 3.35s\tremaining: 2.56s\n",
      "567:\tlearn: 0.1892854\ttotal: 3.36s\tremaining: 2.55s\n",
      "568:\tlearn: 0.1892228\ttotal: 3.36s\tremaining: 2.54s\n",
      "569:\tlearn: 0.1891486\ttotal: 3.37s\tremaining: 2.54s\n",
      "570:\tlearn: 0.1890813\ttotal: 3.37s\tremaining: 2.53s\n",
      "571:\tlearn: 0.1890413\ttotal: 3.37s\tremaining: 2.52s\n",
      "572:\tlearn: 0.1889493\ttotal: 3.38s\tremaining: 2.52s\n",
      "573:\tlearn: 0.1888909\ttotal: 3.38s\tremaining: 2.51s\n",
      "574:\tlearn: 0.1888477\ttotal: 3.38s\tremaining: 2.5s\n",
      "575:\tlearn: 0.1887873\ttotal: 3.38s\tremaining: 2.49s\n",
      "576:\tlearn: 0.1887249\ttotal: 3.39s\tremaining: 2.48s\n",
      "577:\tlearn: 0.1886606\ttotal: 3.39s\tremaining: 2.48s\n",
      "578:\tlearn: 0.1886215\ttotal: 3.4s\tremaining: 2.47s\n",
      "579:\tlearn: 0.1885750\ttotal: 3.4s\tremaining: 2.46s\n",
      "580:\tlearn: 0.1885072\ttotal: 3.4s\tremaining: 2.45s\n",
      "581:\tlearn: 0.1884425\ttotal: 3.41s\tremaining: 2.45s\n",
      "582:\tlearn: 0.1883448\ttotal: 3.41s\tremaining: 2.44s\n",
      "583:\tlearn: 0.1882574\ttotal: 3.41s\tremaining: 2.43s\n",
      "584:\tlearn: 0.1882224\ttotal: 3.42s\tremaining: 2.42s\n",
      "585:\tlearn: 0.1881813\ttotal: 3.42s\tremaining: 2.42s\n",
      "586:\tlearn: 0.1881262\ttotal: 3.42s\tremaining: 2.41s\n",
      "587:\tlearn: 0.1880820\ttotal: 3.43s\tremaining: 2.4s\n",
      "588:\tlearn: 0.1880314\ttotal: 3.43s\tremaining: 2.4s\n",
      "589:\tlearn: 0.1879899\ttotal: 3.44s\tremaining: 2.39s\n",
      "590:\tlearn: 0.1879452\ttotal: 3.44s\tremaining: 2.38s\n",
      "591:\tlearn: 0.1878747\ttotal: 3.44s\tremaining: 2.37s\n",
      "592:\tlearn: 0.1878110\ttotal: 3.45s\tremaining: 2.37s\n",
      "593:\tlearn: 0.1877604\ttotal: 3.45s\tremaining: 2.36s\n",
      "594:\tlearn: 0.1877299\ttotal: 3.46s\tremaining: 2.35s\n",
      "595:\tlearn: 0.1876600\ttotal: 3.46s\tremaining: 2.34s\n",
      "596:\tlearn: 0.1876084\ttotal: 3.46s\tremaining: 2.34s\n",
      "597:\tlearn: 0.1875487\ttotal: 3.47s\tremaining: 2.33s\n",
      "598:\tlearn: 0.1875208\ttotal: 3.47s\tremaining: 2.32s\n",
      "599:\tlearn: 0.1874683\ttotal: 3.48s\tremaining: 2.32s\n",
      "600:\tlearn: 0.1874203\ttotal: 3.48s\tremaining: 2.31s\n",
      "601:\tlearn: 0.1873823\ttotal: 3.48s\tremaining: 2.3s\n",
      "602:\tlearn: 0.1873231\ttotal: 3.49s\tremaining: 2.3s\n",
      "603:\tlearn: 0.1872406\ttotal: 3.49s\tremaining: 2.29s\n",
      "604:\tlearn: 0.1871881\ttotal: 3.5s\tremaining: 2.28s\n",
      "605:\tlearn: 0.1871538\ttotal: 3.5s\tremaining: 2.28s\n",
      "606:\tlearn: 0.1870756\ttotal: 3.51s\tremaining: 2.27s\n",
      "607:\tlearn: 0.1870278\ttotal: 3.51s\tremaining: 2.26s\n",
      "608:\tlearn: 0.1869274\ttotal: 3.52s\tremaining: 2.26s\n",
      "609:\tlearn: 0.1868867\ttotal: 3.52s\tremaining: 2.25s\n",
      "610:\tlearn: 0.1868453\ttotal: 3.53s\tremaining: 2.25s\n",
      "611:\tlearn: 0.1868038\ttotal: 3.53s\tremaining: 2.24s\n",
      "612:\tlearn: 0.1867685\ttotal: 3.54s\tremaining: 2.23s\n",
      "613:\tlearn: 0.1867246\ttotal: 3.54s\tremaining: 2.23s\n",
      "614:\tlearn: 0.1866695\ttotal: 3.54s\tremaining: 2.22s\n",
      "615:\tlearn: 0.1866237\ttotal: 3.55s\tremaining: 2.21s\n",
      "616:\tlearn: 0.1865805\ttotal: 3.55s\tremaining: 2.21s\n",
      "617:\tlearn: 0.1865383\ttotal: 3.56s\tremaining: 2.2s\n",
      "618:\tlearn: 0.1865039\ttotal: 3.56s\tremaining: 2.19s\n",
      "619:\tlearn: 0.1864557\ttotal: 3.57s\tremaining: 2.19s\n",
      "620:\tlearn: 0.1864093\ttotal: 3.57s\tremaining: 2.18s\n",
      "621:\tlearn: 0.1863822\ttotal: 3.58s\tremaining: 2.17s\n",
      "622:\tlearn: 0.1863458\ttotal: 3.58s\tremaining: 2.17s\n",
      "623:\tlearn: 0.1863047\ttotal: 3.58s\tremaining: 2.16s\n",
      "624:\tlearn: 0.1862713\ttotal: 3.59s\tremaining: 2.16s\n",
      "625:\tlearn: 0.1862423\ttotal: 3.6s\tremaining: 2.15s\n",
      "626:\tlearn: 0.1862070\ttotal: 3.6s\tremaining: 2.14s\n",
      "627:\tlearn: 0.1861646\ttotal: 3.61s\tremaining: 2.14s\n",
      "628:\tlearn: 0.1861284\ttotal: 3.61s\tremaining: 2.13s\n",
      "629:\tlearn: 0.1860879\ttotal: 3.61s\tremaining: 2.12s\n",
      "630:\tlearn: 0.1860585\ttotal: 3.62s\tremaining: 2.12s\n",
      "631:\tlearn: 0.1859993\ttotal: 3.62s\tremaining: 2.11s\n",
      "632:\tlearn: 0.1859411\ttotal: 3.63s\tremaining: 2.1s\n",
      "633:\tlearn: 0.1859069\ttotal: 3.63s\tremaining: 2.1s\n",
      "634:\tlearn: 0.1858508\ttotal: 3.63s\tremaining: 2.09s\n",
      "635:\tlearn: 0.1858210\ttotal: 3.64s\tremaining: 2.08s\n",
      "636:\tlearn: 0.1857687\ttotal: 3.64s\tremaining: 2.08s\n",
      "637:\tlearn: 0.1857328\ttotal: 3.65s\tremaining: 2.07s\n",
      "638:\tlearn: 0.1856969\ttotal: 3.65s\tremaining: 2.06s\n",
      "639:\tlearn: 0.1856525\ttotal: 3.65s\tremaining: 2.05s\n",
      "640:\tlearn: 0.1856047\ttotal: 3.65s\tremaining: 2.05s\n",
      "641:\tlearn: 0.1855606\ttotal: 3.66s\tremaining: 2.04s\n",
      "642:\tlearn: 0.1855212\ttotal: 3.66s\tremaining: 2.03s\n",
      "643:\tlearn: 0.1854807\ttotal: 3.67s\tremaining: 2.03s\n",
      "644:\tlearn: 0.1854488\ttotal: 3.67s\tremaining: 2.02s\n",
      "645:\tlearn: 0.1854190\ttotal: 3.67s\tremaining: 2.01s\n",
      "646:\tlearn: 0.1853742\ttotal: 3.67s\tremaining: 2s\n",
      "647:\tlearn: 0.1853233\ttotal: 3.68s\tremaining: 2s\n",
      "648:\tlearn: 0.1852792\ttotal: 3.68s\tremaining: 1.99s\n",
      "649:\tlearn: 0.1852113\ttotal: 3.68s\tremaining: 1.98s\n",
      "650:\tlearn: 0.1851804\ttotal: 3.69s\tremaining: 1.98s\n",
      "651:\tlearn: 0.1851472\ttotal: 3.69s\tremaining: 1.97s\n",
      "652:\tlearn: 0.1851174\ttotal: 3.69s\tremaining: 1.96s\n",
      "653:\tlearn: 0.1850752\ttotal: 3.7s\tremaining: 1.96s\n",
      "654:\tlearn: 0.1850466\ttotal: 3.7s\tremaining: 1.95s\n",
      "655:\tlearn: 0.1850194\ttotal: 3.71s\tremaining: 1.94s\n",
      "656:\tlearn: 0.1849905\ttotal: 3.71s\tremaining: 1.94s\n",
      "657:\tlearn: 0.1849384\ttotal: 3.72s\tremaining: 1.93s\n",
      "658:\tlearn: 0.1849070\ttotal: 3.72s\tremaining: 1.93s\n",
      "659:\tlearn: 0.1848793\ttotal: 3.72s\tremaining: 1.92s\n",
      "660:\tlearn: 0.1848526\ttotal: 3.73s\tremaining: 1.91s\n",
      "661:\tlearn: 0.1847724\ttotal: 3.73s\tremaining: 1.91s\n",
      "662:\tlearn: 0.1847032\ttotal: 3.74s\tremaining: 1.9s\n",
      "663:\tlearn: 0.1846625\ttotal: 3.74s\tremaining: 1.89s\n",
      "664:\tlearn: 0.1845931\ttotal: 3.75s\tremaining: 1.89s\n",
      "665:\tlearn: 0.1845469\ttotal: 3.75s\tremaining: 1.88s\n",
      "666:\tlearn: 0.1845259\ttotal: 3.76s\tremaining: 1.88s\n",
      "667:\tlearn: 0.1844915\ttotal: 3.76s\tremaining: 1.87s\n",
      "668:\tlearn: 0.1844485\ttotal: 3.77s\tremaining: 1.86s\n",
      "669:\tlearn: 0.1844039\ttotal: 3.77s\tremaining: 1.86s\n",
      "670:\tlearn: 0.1843628\ttotal: 3.78s\tremaining: 1.85s\n",
      "671:\tlearn: 0.1843252\ttotal: 3.79s\tremaining: 1.85s\n",
      "672:\tlearn: 0.1842976\ttotal: 3.79s\tremaining: 1.84s\n",
      "673:\tlearn: 0.1842545\ttotal: 3.79s\tremaining: 1.83s\n",
      "674:\tlearn: 0.1842299\ttotal: 3.8s\tremaining: 1.83s\n",
      "675:\tlearn: 0.1841522\ttotal: 3.8s\tremaining: 1.82s\n",
      "676:\tlearn: 0.1841273\ttotal: 3.81s\tremaining: 1.82s\n",
      "677:\tlearn: 0.1841005\ttotal: 3.81s\tremaining: 1.81s\n",
      "678:\tlearn: 0.1840641\ttotal: 3.82s\tremaining: 1.81s\n",
      "679:\tlearn: 0.1840372\ttotal: 3.83s\tremaining: 1.8s\n",
      "680:\tlearn: 0.1840137\ttotal: 3.83s\tremaining: 1.79s\n",
      "681:\tlearn: 0.1839720\ttotal: 3.85s\tremaining: 1.79s\n",
      "682:\tlearn: 0.1839424\ttotal: 3.88s\tremaining: 1.8s\n",
      "683:\tlearn: 0.1838851\ttotal: 3.89s\tremaining: 1.8s\n",
      "684:\tlearn: 0.1838267\ttotal: 3.92s\tremaining: 1.8s\n",
      "685:\tlearn: 0.1837865\ttotal: 3.93s\tremaining: 1.8s\n",
      "686:\tlearn: 0.1837475\ttotal: 3.94s\tremaining: 1.79s\n",
      "687:\tlearn: 0.1837060\ttotal: 3.94s\tremaining: 1.79s\n",
      "688:\tlearn: 0.1836396\ttotal: 3.95s\tremaining: 1.78s\n",
      "689:\tlearn: 0.1835654\ttotal: 3.96s\tremaining: 1.78s\n"
     ]
    },
    {
     "name": "stdout",
     "output_type": "stream",
     "text": [
      "690:\tlearn: 0.1835225\ttotal: 3.97s\tremaining: 1.77s\n",
      "691:\tlearn: 0.1834697\ttotal: 3.98s\tremaining: 1.77s\n",
      "692:\tlearn: 0.1834208\ttotal: 4s\tremaining: 1.77s\n",
      "693:\tlearn: 0.1833829\ttotal: 4s\tremaining: 1.76s\n",
      "694:\tlearn: 0.1833019\ttotal: 4.02s\tremaining: 1.76s\n",
      "695:\tlearn: 0.1832612\ttotal: 4.03s\tremaining: 1.76s\n",
      "696:\tlearn: 0.1831960\ttotal: 4.03s\tremaining: 1.75s\n",
      "697:\tlearn: 0.1831550\ttotal: 4.04s\tremaining: 1.75s\n",
      "698:\tlearn: 0.1830985\ttotal: 4.05s\tremaining: 1.74s\n",
      "699:\tlearn: 0.1830657\ttotal: 4.06s\tremaining: 1.74s\n",
      "700:\tlearn: 0.1830296\ttotal: 4.07s\tremaining: 1.74s\n",
      "701:\tlearn: 0.1829682\ttotal: 4.07s\tremaining: 1.73s\n",
      "702:\tlearn: 0.1829065\ttotal: 4.08s\tremaining: 1.72s\n",
      "703:\tlearn: 0.1828539\ttotal: 4.09s\tremaining: 1.72s\n",
      "704:\tlearn: 0.1828169\ttotal: 4.1s\tremaining: 1.71s\n",
      "705:\tlearn: 0.1827397\ttotal: 4.11s\tremaining: 1.71s\n",
      "706:\tlearn: 0.1827143\ttotal: 4.13s\tremaining: 1.71s\n",
      "707:\tlearn: 0.1826763\ttotal: 4.14s\tremaining: 1.71s\n",
      "708:\tlearn: 0.1826336\ttotal: 4.16s\tremaining: 1.71s\n",
      "709:\tlearn: 0.1826115\ttotal: 4.17s\tremaining: 1.7s\n",
      "710:\tlearn: 0.1825754\ttotal: 4.18s\tremaining: 1.7s\n",
      "711:\tlearn: 0.1825077\ttotal: 4.19s\tremaining: 1.7s\n",
      "712:\tlearn: 0.1824711\ttotal: 4.21s\tremaining: 1.7s\n",
      "713:\tlearn: 0.1824350\ttotal: 4.22s\tremaining: 1.69s\n",
      "714:\tlearn: 0.1823982\ttotal: 4.23s\tremaining: 1.69s\n",
      "715:\tlearn: 0.1823435\ttotal: 4.24s\tremaining: 1.68s\n",
      "716:\tlearn: 0.1823007\ttotal: 4.26s\tremaining: 1.68s\n",
      "717:\tlearn: 0.1822654\ttotal: 4.27s\tremaining: 1.68s\n",
      "718:\tlearn: 0.1821837\ttotal: 4.29s\tremaining: 1.68s\n",
      "719:\tlearn: 0.1821525\ttotal: 4.3s\tremaining: 1.67s\n",
      "720:\tlearn: 0.1820935\ttotal: 4.31s\tremaining: 1.67s\n",
      "721:\tlearn: 0.1820441\ttotal: 4.32s\tremaining: 1.66s\n",
      "722:\tlearn: 0.1819973\ttotal: 4.32s\tremaining: 1.66s\n",
      "723:\tlearn: 0.1819605\ttotal: 4.33s\tremaining: 1.65s\n",
      "724:\tlearn: 0.1819152\ttotal: 4.33s\tremaining: 1.64s\n",
      "725:\tlearn: 0.1818811\ttotal: 4.34s\tremaining: 1.64s\n",
      "726:\tlearn: 0.1818509\ttotal: 4.36s\tremaining: 1.64s\n",
      "727:\tlearn: 0.1818288\ttotal: 4.37s\tremaining: 1.63s\n",
      "728:\tlearn: 0.1817940\ttotal: 4.38s\tremaining: 1.63s\n",
      "729:\tlearn: 0.1817592\ttotal: 4.39s\tremaining: 1.62s\n",
      "730:\tlearn: 0.1817092\ttotal: 4.4s\tremaining: 1.62s\n",
      "731:\tlearn: 0.1816595\ttotal: 4.41s\tremaining: 1.61s\n",
      "732:\tlearn: 0.1815867\ttotal: 4.41s\tremaining: 1.61s\n",
      "733:\tlearn: 0.1815254\ttotal: 4.42s\tremaining: 1.6s\n",
      "734:\tlearn: 0.1814721\ttotal: 4.42s\tremaining: 1.59s\n",
      "735:\tlearn: 0.1814195\ttotal: 4.43s\tremaining: 1.59s\n",
      "736:\tlearn: 0.1813932\ttotal: 4.43s\tremaining: 1.58s\n",
      "737:\tlearn: 0.1813464\ttotal: 4.44s\tremaining: 1.57s\n",
      "738:\tlearn: 0.1813179\ttotal: 4.44s\tremaining: 1.57s\n",
      "739:\tlearn: 0.1812677\ttotal: 4.45s\tremaining: 1.56s\n",
      "740:\tlearn: 0.1812385\ttotal: 4.45s\tremaining: 1.55s\n",
      "741:\tlearn: 0.1812026\ttotal: 4.45s\tremaining: 1.55s\n",
      "742:\tlearn: 0.1811282\ttotal: 4.46s\tremaining: 1.54s\n",
      "743:\tlearn: 0.1811028\ttotal: 4.46s\tremaining: 1.53s\n",
      "744:\tlearn: 0.1810522\ttotal: 4.46s\tremaining: 1.53s\n",
      "745:\tlearn: 0.1810143\ttotal: 4.47s\tremaining: 1.52s\n",
      "746:\tlearn: 0.1809545\ttotal: 4.47s\tremaining: 1.51s\n",
      "747:\tlearn: 0.1808932\ttotal: 4.47s\tremaining: 1.51s\n",
      "748:\tlearn: 0.1808494\ttotal: 4.48s\tremaining: 1.5s\n",
      "749:\tlearn: 0.1808053\ttotal: 4.49s\tremaining: 1.5s\n",
      "750:\tlearn: 0.1807742\ttotal: 4.5s\tremaining: 1.49s\n",
      "751:\tlearn: 0.1807312\ttotal: 4.5s\tremaining: 1.49s\n",
      "752:\tlearn: 0.1807066\ttotal: 4.51s\tremaining: 1.48s\n",
      "753:\tlearn: 0.1806616\ttotal: 4.51s\tremaining: 1.47s\n",
      "754:\tlearn: 0.1806047\ttotal: 4.51s\tremaining: 1.46s\n",
      "755:\tlearn: 0.1805704\ttotal: 4.52s\tremaining: 1.46s\n",
      "756:\tlearn: 0.1805175\ttotal: 4.52s\tremaining: 1.45s\n",
      "757:\tlearn: 0.1804501\ttotal: 4.52s\tremaining: 1.44s\n",
      "758:\tlearn: 0.1804026\ttotal: 4.53s\tremaining: 1.44s\n",
      "759:\tlearn: 0.1803463\ttotal: 4.53s\tremaining: 1.43s\n",
      "760:\tlearn: 0.1803182\ttotal: 4.53s\tremaining: 1.42s\n",
      "761:\tlearn: 0.1802833\ttotal: 4.54s\tremaining: 1.42s\n",
      "762:\tlearn: 0.1802080\ttotal: 4.54s\tremaining: 1.41s\n",
      "763:\tlearn: 0.1801652\ttotal: 4.54s\tremaining: 1.4s\n",
      "764:\tlearn: 0.1801366\ttotal: 4.55s\tremaining: 1.4s\n",
      "765:\tlearn: 0.1801182\ttotal: 4.55s\tremaining: 1.39s\n",
      "766:\tlearn: 0.1801021\ttotal: 4.56s\tremaining: 1.38s\n",
      "767:\tlearn: 0.1800543\ttotal: 4.56s\tremaining: 1.38s\n",
      "768:\tlearn: 0.1800041\ttotal: 4.56s\tremaining: 1.37s\n",
      "769:\tlearn: 0.1799433\ttotal: 4.57s\tremaining: 1.36s\n",
      "770:\tlearn: 0.1799122\ttotal: 4.57s\tremaining: 1.36s\n",
      "771:\tlearn: 0.1798837\ttotal: 4.57s\tremaining: 1.35s\n",
      "772:\tlearn: 0.1798620\ttotal: 4.58s\tremaining: 1.34s\n",
      "773:\tlearn: 0.1797945\ttotal: 4.58s\tremaining: 1.34s\n",
      "774:\tlearn: 0.1797520\ttotal: 4.58s\tremaining: 1.33s\n",
      "775:\tlearn: 0.1796926\ttotal: 4.59s\tremaining: 1.32s\n",
      "776:\tlearn: 0.1796456\ttotal: 4.59s\tremaining: 1.32s\n",
      "777:\tlearn: 0.1796163\ttotal: 4.59s\tremaining: 1.31s\n",
      "778:\tlearn: 0.1795413\ttotal: 4.59s\tremaining: 1.3s\n",
      "779:\tlearn: 0.1795079\ttotal: 4.6s\tremaining: 1.3s\n",
      "780:\tlearn: 0.1794604\ttotal: 4.6s\tremaining: 1.29s\n",
      "781:\tlearn: 0.1794096\ttotal: 4.61s\tremaining: 1.28s\n",
      "782:\tlearn: 0.1793485\ttotal: 4.61s\tremaining: 1.28s\n",
      "783:\tlearn: 0.1793174\ttotal: 4.61s\tremaining: 1.27s\n",
      "784:\tlearn: 0.1792454\ttotal: 4.62s\tremaining: 1.26s\n",
      "785:\tlearn: 0.1791862\ttotal: 4.62s\tremaining: 1.26s\n",
      "786:\tlearn: 0.1791624\ttotal: 4.62s\tremaining: 1.25s\n",
      "787:\tlearn: 0.1791225\ttotal: 4.62s\tremaining: 1.24s\n",
      "788:\tlearn: 0.1790902\ttotal: 4.63s\tremaining: 1.24s\n",
      "789:\tlearn: 0.1790605\ttotal: 4.63s\tremaining: 1.23s\n",
      "790:\tlearn: 0.1789923\ttotal: 4.63s\tremaining: 1.22s\n",
      "791:\tlearn: 0.1789471\ttotal: 4.64s\tremaining: 1.22s\n",
      "792:\tlearn: 0.1789249\ttotal: 4.64s\tremaining: 1.21s\n",
      "793:\tlearn: 0.1789145\ttotal: 4.64s\tremaining: 1.21s\n",
      "794:\tlearn: 0.1788740\ttotal: 4.65s\tremaining: 1.2s\n",
      "795:\tlearn: 0.1788265\ttotal: 4.65s\tremaining: 1.19s\n",
      "796:\tlearn: 0.1787848\ttotal: 4.66s\tremaining: 1.19s\n",
      "797:\tlearn: 0.1787496\ttotal: 4.66s\tremaining: 1.18s\n",
      "798:\tlearn: 0.1787161\ttotal: 4.66s\tremaining: 1.17s\n",
      "799:\tlearn: 0.1786472\ttotal: 4.67s\tremaining: 1.17s\n",
      "800:\tlearn: 0.1785940\ttotal: 4.67s\tremaining: 1.16s\n",
      "801:\tlearn: 0.1785224\ttotal: 4.67s\tremaining: 1.15s\n",
      "802:\tlearn: 0.1784878\ttotal: 4.67s\tremaining: 1.15s\n",
      "803:\tlearn: 0.1784717\ttotal: 4.68s\tremaining: 1.14s\n",
      "804:\tlearn: 0.1784260\ttotal: 4.68s\tremaining: 1.13s\n",
      "805:\tlearn: 0.1783976\ttotal: 4.69s\tremaining: 1.13s\n",
      "806:\tlearn: 0.1783743\ttotal: 4.69s\tremaining: 1.12s\n",
      "807:\tlearn: 0.1783434\ttotal: 4.69s\tremaining: 1.11s\n",
      "808:\tlearn: 0.1782893\ttotal: 4.7s\tremaining: 1.11s\n",
      "809:\tlearn: 0.1782504\ttotal: 4.7s\tremaining: 1.1s\n",
      "810:\tlearn: 0.1782231\ttotal: 4.7s\tremaining: 1.09s\n",
      "811:\tlearn: 0.1781831\ttotal: 4.71s\tremaining: 1.09s\n",
      "812:\tlearn: 0.1781542\ttotal: 4.71s\tremaining: 1.08s\n",
      "813:\tlearn: 0.1781226\ttotal: 4.71s\tremaining: 1.08s\n",
      "814:\tlearn: 0.1780972\ttotal: 4.72s\tremaining: 1.07s\n",
      "815:\tlearn: 0.1780815\ttotal: 4.72s\tremaining: 1.06s\n",
      "816:\tlearn: 0.1780539\ttotal: 4.72s\tremaining: 1.06s\n",
      "817:\tlearn: 0.1779905\ttotal: 4.73s\tremaining: 1.05s\n",
      "818:\tlearn: 0.1779565\ttotal: 4.73s\tremaining: 1.04s\n",
      "819:\tlearn: 0.1779243\ttotal: 4.74s\tremaining: 1.04s\n",
      "820:\tlearn: 0.1778954\ttotal: 4.74s\tremaining: 1.03s\n",
      "821:\tlearn: 0.1778573\ttotal: 4.74s\tremaining: 1.03s\n",
      "822:\tlearn: 0.1778310\ttotal: 4.75s\tremaining: 1.02s\n",
      "823:\tlearn: 0.1778131\ttotal: 4.75s\tremaining: 1.01s\n",
      "824:\tlearn: 0.1777786\ttotal: 4.75s\tremaining: 1.01s\n",
      "825:\tlearn: 0.1777186\ttotal: 4.76s\tremaining: 1s\n",
      "826:\tlearn: 0.1776927\ttotal: 4.76s\tremaining: 996ms\n",
      "827:\tlearn: 0.1776497\ttotal: 4.76s\tremaining: 990ms\n",
      "828:\tlearn: 0.1776030\ttotal: 4.77s\tremaining: 984ms\n",
      "829:\tlearn: 0.1775416\ttotal: 4.77s\tremaining: 977ms\n",
      "830:\tlearn: 0.1775031\ttotal: 4.78s\tremaining: 971ms\n",
      "831:\tlearn: 0.1774833\ttotal: 4.78s\tremaining: 965ms\n",
      "832:\tlearn: 0.1774633\ttotal: 4.78s\tremaining: 959ms\n",
      "833:\tlearn: 0.1774114\ttotal: 4.79s\tremaining: 953ms\n",
      "834:\tlearn: 0.1773970\ttotal: 4.79s\tremaining: 947ms\n",
      "835:\tlearn: 0.1773665\ttotal: 4.79s\tremaining: 940ms\n",
      "836:\tlearn: 0.1773340\ttotal: 4.8s\tremaining: 934ms\n",
      "837:\tlearn: 0.1772831\ttotal: 4.8s\tremaining: 928ms\n",
      "838:\tlearn: 0.1772428\ttotal: 4.8s\tremaining: 922ms\n",
      "839:\tlearn: 0.1771699\ttotal: 4.81s\tremaining: 916ms\n",
      "840:\tlearn: 0.1771402\ttotal: 4.81s\tremaining: 909ms\n",
      "841:\tlearn: 0.1770624\ttotal: 4.81s\tremaining: 903ms\n",
      "842:\tlearn: 0.1769997\ttotal: 4.82s\tremaining: 897ms\n",
      "843:\tlearn: 0.1769891\ttotal: 4.82s\tremaining: 891ms\n",
      "844:\tlearn: 0.1769462\ttotal: 4.82s\tremaining: 885ms\n",
      "845:\tlearn: 0.1769259\ttotal: 4.83s\tremaining: 879ms\n",
      "846:\tlearn: 0.1769006\ttotal: 4.83s\tremaining: 872ms\n",
      "847:\tlearn: 0.1768669\ttotal: 4.83s\tremaining: 866ms\n",
      "848:\tlearn: 0.1768272\ttotal: 4.83s\tremaining: 860ms\n",
      "849:\tlearn: 0.1767986\ttotal: 4.84s\tremaining: 854ms\n",
      "850:\tlearn: 0.1767778\ttotal: 4.84s\tremaining: 848ms\n",
      "851:\tlearn: 0.1767677\ttotal: 4.84s\tremaining: 842ms\n",
      "852:\tlearn: 0.1767461\ttotal: 4.85s\tremaining: 836ms\n",
      "853:\tlearn: 0.1766901\ttotal: 4.85s\tremaining: 829ms\n",
      "854:\tlearn: 0.1766773\ttotal: 4.86s\tremaining: 823ms\n",
      "855:\tlearn: 0.1766378\ttotal: 4.86s\tremaining: 818ms\n",
      "856:\tlearn: 0.1766096\ttotal: 4.86s\tremaining: 811ms\n",
      "857:\tlearn: 0.1765273\ttotal: 4.87s\tremaining: 805ms\n",
      "858:\tlearn: 0.1764986\ttotal: 4.87s\tremaining: 799ms\n",
      "859:\tlearn: 0.1764250\ttotal: 4.87s\tremaining: 793ms\n",
      "860:\tlearn: 0.1763993\ttotal: 4.88s\tremaining: 787ms\n",
      "861:\tlearn: 0.1763752\ttotal: 4.88s\tremaining: 781ms\n",
      "862:\tlearn: 0.1763364\ttotal: 4.88s\tremaining: 775ms\n",
      "863:\tlearn: 0.1763186\ttotal: 4.89s\tremaining: 769ms\n",
      "864:\tlearn: 0.1762784\ttotal: 4.89s\tremaining: 763ms\n",
      "865:\tlearn: 0.1762555\ttotal: 4.89s\tremaining: 757ms\n",
      "866:\tlearn: 0.1762139\ttotal: 4.89s\tremaining: 751ms\n",
      "867:\tlearn: 0.1761823\ttotal: 4.9s\tremaining: 745ms\n",
      "868:\tlearn: 0.1761656\ttotal: 4.9s\tremaining: 739ms\n",
      "869:\tlearn: 0.1761341\ttotal: 4.91s\tremaining: 733ms\n",
      "870:\tlearn: 0.1761023\ttotal: 4.91s\tremaining: 728ms\n",
      "871:\tlearn: 0.1760764\ttotal: 4.92s\tremaining: 722ms\n"
     ]
    },
    {
     "name": "stdout",
     "output_type": "stream",
     "text": [
      "872:\tlearn: 0.1760534\ttotal: 4.92s\tremaining: 716ms\n",
      "873:\tlearn: 0.1759936\ttotal: 4.93s\tremaining: 710ms\n",
      "874:\tlearn: 0.1759619\ttotal: 4.93s\tremaining: 704ms\n",
      "875:\tlearn: 0.1759355\ttotal: 4.93s\tremaining: 698ms\n",
      "876:\tlearn: 0.1758955\ttotal: 4.94s\tremaining: 692ms\n",
      "877:\tlearn: 0.1758782\ttotal: 4.94s\tremaining: 686ms\n",
      "878:\tlearn: 0.1758297\ttotal: 4.94s\tremaining: 680ms\n",
      "879:\tlearn: 0.1757898\ttotal: 4.95s\tremaining: 674ms\n",
      "880:\tlearn: 0.1757645\ttotal: 4.95s\tremaining: 669ms\n",
      "881:\tlearn: 0.1757220\ttotal: 4.95s\tremaining: 663ms\n",
      "882:\tlearn: 0.1756960\ttotal: 4.96s\tremaining: 657ms\n",
      "883:\tlearn: 0.1756568\ttotal: 4.96s\tremaining: 651ms\n",
      "884:\tlearn: 0.1756492\ttotal: 4.96s\tremaining: 645ms\n",
      "885:\tlearn: 0.1756194\ttotal: 4.96s\tremaining: 639ms\n",
      "886:\tlearn: 0.1755996\ttotal: 4.97s\tremaining: 633ms\n",
      "887:\tlearn: 0.1755615\ttotal: 4.97s\tremaining: 627ms\n",
      "888:\tlearn: 0.1755428\ttotal: 4.98s\tremaining: 622ms\n",
      "889:\tlearn: 0.1755085\ttotal: 4.98s\tremaining: 616ms\n",
      "890:\tlearn: 0.1754835\ttotal: 4.99s\tremaining: 610ms\n",
      "891:\tlearn: 0.1754341\ttotal: 4.99s\tremaining: 604ms\n",
      "892:\tlearn: 0.1753902\ttotal: 4.99s\tremaining: 598ms\n",
      "893:\tlearn: 0.1753359\ttotal: 5s\tremaining: 593ms\n",
      "894:\tlearn: 0.1752842\ttotal: 5s\tremaining: 587ms\n",
      "895:\tlearn: 0.1752428\ttotal: 5.01s\tremaining: 581ms\n",
      "896:\tlearn: 0.1752068\ttotal: 5.01s\tremaining: 576ms\n",
      "897:\tlearn: 0.1751803\ttotal: 5.02s\tremaining: 570ms\n",
      "898:\tlearn: 0.1751699\ttotal: 5.02s\tremaining: 564ms\n",
      "899:\tlearn: 0.1751325\ttotal: 5.03s\tremaining: 559ms\n",
      "900:\tlearn: 0.1750923\ttotal: 5.03s\tremaining: 553ms\n",
      "901:\tlearn: 0.1750642\ttotal: 5.03s\tremaining: 547ms\n",
      "902:\tlearn: 0.1750464\ttotal: 5.04s\tremaining: 541ms\n",
      "903:\tlearn: 0.1750152\ttotal: 5.05s\tremaining: 536ms\n",
      "904:\tlearn: 0.1750077\ttotal: 5.05s\tremaining: 530ms\n",
      "905:\tlearn: 0.1749700\ttotal: 5.05s\tremaining: 524ms\n",
      "906:\tlearn: 0.1749134\ttotal: 5.06s\tremaining: 519ms\n",
      "907:\tlearn: 0.1748649\ttotal: 5.06s\tremaining: 513ms\n",
      "908:\tlearn: 0.1748462\ttotal: 5.07s\tremaining: 507ms\n",
      "909:\tlearn: 0.1748185\ttotal: 5.07s\tremaining: 502ms\n",
      "910:\tlearn: 0.1747964\ttotal: 5.08s\tremaining: 496ms\n",
      "911:\tlearn: 0.1747742\ttotal: 5.08s\tremaining: 490ms\n",
      "912:\tlearn: 0.1747595\ttotal: 5.08s\tremaining: 485ms\n",
      "913:\tlearn: 0.1747404\ttotal: 5.09s\tremaining: 479ms\n",
      "914:\tlearn: 0.1746715\ttotal: 5.09s\tremaining: 473ms\n",
      "915:\tlearn: 0.1746340\ttotal: 5.1s\tremaining: 467ms\n",
      "916:\tlearn: 0.1746231\ttotal: 5.1s\tremaining: 462ms\n",
      "917:\tlearn: 0.1746047\ttotal: 5.11s\tremaining: 456ms\n",
      "918:\tlearn: 0.1745742\ttotal: 5.11s\tremaining: 451ms\n",
      "919:\tlearn: 0.1745351\ttotal: 5.12s\tremaining: 445ms\n",
      "920:\tlearn: 0.1744991\ttotal: 5.12s\tremaining: 440ms\n",
      "921:\tlearn: 0.1744617\ttotal: 5.13s\tremaining: 434ms\n",
      "922:\tlearn: 0.1744547\ttotal: 5.13s\tremaining: 428ms\n",
      "923:\tlearn: 0.1744310\ttotal: 5.14s\tremaining: 423ms\n",
      "924:\tlearn: 0.1744106\ttotal: 5.14s\tremaining: 417ms\n",
      "925:\tlearn: 0.1743586\ttotal: 5.15s\tremaining: 411ms\n",
      "926:\tlearn: 0.1743242\ttotal: 5.15s\tremaining: 406ms\n",
      "927:\tlearn: 0.1743057\ttotal: 5.16s\tremaining: 400ms\n",
      "928:\tlearn: 0.1742778\ttotal: 5.16s\tremaining: 395ms\n",
      "929:\tlearn: 0.1742423\ttotal: 5.17s\tremaining: 389ms\n",
      "930:\tlearn: 0.1742083\ttotal: 5.17s\tremaining: 383ms\n",
      "931:\tlearn: 0.1741723\ttotal: 5.17s\tremaining: 378ms\n",
      "932:\tlearn: 0.1741482\ttotal: 5.18s\tremaining: 372ms\n",
      "933:\tlearn: 0.1741215\ttotal: 5.18s\tremaining: 366ms\n",
      "934:\tlearn: 0.1740638\ttotal: 5.19s\tremaining: 361ms\n",
      "935:\tlearn: 0.1740172\ttotal: 5.2s\tremaining: 355ms\n",
      "936:\tlearn: 0.1739702\ttotal: 5.2s\tremaining: 350ms\n",
      "937:\tlearn: 0.1739347\ttotal: 5.2s\tremaining: 344ms\n",
      "938:\tlearn: 0.1738869\ttotal: 5.21s\tremaining: 338ms\n",
      "939:\tlearn: 0.1738618\ttotal: 5.21s\tremaining: 333ms\n",
      "940:\tlearn: 0.1738269\ttotal: 5.21s\tremaining: 327ms\n",
      "941:\tlearn: 0.1737655\ttotal: 5.22s\tremaining: 321ms\n",
      "942:\tlearn: 0.1737404\ttotal: 5.22s\tremaining: 316ms\n",
      "943:\tlearn: 0.1736928\ttotal: 5.22s\tremaining: 310ms\n",
      "944:\tlearn: 0.1736637\ttotal: 5.23s\tremaining: 304ms\n",
      "945:\tlearn: 0.1736565\ttotal: 5.23s\tremaining: 299ms\n",
      "946:\tlearn: 0.1736291\ttotal: 5.23s\tremaining: 293ms\n",
      "947:\tlearn: 0.1735953\ttotal: 5.24s\tremaining: 287ms\n",
      "948:\tlearn: 0.1735621\ttotal: 5.24s\tremaining: 282ms\n",
      "949:\tlearn: 0.1735423\ttotal: 5.24s\tremaining: 276ms\n",
      "950:\tlearn: 0.1734888\ttotal: 5.25s\tremaining: 270ms\n",
      "951:\tlearn: 0.1734514\ttotal: 5.25s\tremaining: 265ms\n",
      "952:\tlearn: 0.1734123\ttotal: 5.25s\tremaining: 259ms\n",
      "953:\tlearn: 0.1733774\ttotal: 5.26s\tremaining: 253ms\n",
      "954:\tlearn: 0.1733065\ttotal: 5.26s\tremaining: 248ms\n",
      "955:\tlearn: 0.1732847\ttotal: 5.26s\tremaining: 242ms\n",
      "956:\tlearn: 0.1732524\ttotal: 5.26s\tremaining: 237ms\n",
      "957:\tlearn: 0.1731940\ttotal: 5.27s\tremaining: 231ms\n",
      "958:\tlearn: 0.1731492\ttotal: 5.27s\tremaining: 225ms\n",
      "959:\tlearn: 0.1731244\ttotal: 5.28s\tremaining: 220ms\n",
      "960:\tlearn: 0.1730885\ttotal: 5.28s\tremaining: 214ms\n",
      "961:\tlearn: 0.1730280\ttotal: 5.28s\tremaining: 209ms\n",
      "962:\tlearn: 0.1729934\ttotal: 5.28s\tremaining: 203ms\n",
      "963:\tlearn: 0.1729499\ttotal: 5.29s\tremaining: 197ms\n",
      "964:\tlearn: 0.1728989\ttotal: 5.29s\tremaining: 192ms\n",
      "965:\tlearn: 0.1728760\ttotal: 5.29s\tremaining: 186ms\n",
      "966:\tlearn: 0.1728433\ttotal: 5.3s\tremaining: 181ms\n",
      "967:\tlearn: 0.1728140\ttotal: 5.3s\tremaining: 175ms\n",
      "968:\tlearn: 0.1727896\ttotal: 5.3s\tremaining: 170ms\n",
      "969:\tlearn: 0.1727569\ttotal: 5.31s\tremaining: 164ms\n",
      "970:\tlearn: 0.1727349\ttotal: 5.31s\tremaining: 159ms\n",
      "971:\tlearn: 0.1727065\ttotal: 5.31s\tremaining: 153ms\n",
      "972:\tlearn: 0.1726902\ttotal: 5.32s\tremaining: 148ms\n",
      "973:\tlearn: 0.1726697\ttotal: 5.32s\tremaining: 142ms\n",
      "974:\tlearn: 0.1726180\ttotal: 5.32s\tremaining: 137ms\n",
      "975:\tlearn: 0.1725931\ttotal: 5.33s\tremaining: 131ms\n",
      "976:\tlearn: 0.1725328\ttotal: 5.33s\tremaining: 125ms\n",
      "977:\tlearn: 0.1724836\ttotal: 5.33s\tremaining: 120ms\n",
      "978:\tlearn: 0.1724487\ttotal: 5.34s\tremaining: 114ms\n",
      "979:\tlearn: 0.1724267\ttotal: 5.34s\tremaining: 109ms\n",
      "980:\tlearn: 0.1724112\ttotal: 5.34s\tremaining: 103ms\n",
      "981:\tlearn: 0.1723923\ttotal: 5.35s\tremaining: 98ms\n",
      "982:\tlearn: 0.1723306\ttotal: 5.35s\tremaining: 92.5ms\n",
      "983:\tlearn: 0.1722893\ttotal: 5.35s\tremaining: 87ms\n",
      "984:\tlearn: 0.1722463\ttotal: 5.36s\tremaining: 81.6ms\n",
      "985:\tlearn: 0.1722153\ttotal: 5.36s\tremaining: 76.1ms\n",
      "986:\tlearn: 0.1721812\ttotal: 5.36s\tremaining: 70.6ms\n",
      "987:\tlearn: 0.1721324\ttotal: 5.37s\tremaining: 65.2ms\n",
      "988:\tlearn: 0.1720766\ttotal: 5.37s\tremaining: 59.7ms\n",
      "989:\tlearn: 0.1720307\ttotal: 5.37s\tremaining: 54.3ms\n",
      "990:\tlearn: 0.1720133\ttotal: 5.38s\tremaining: 48.8ms\n",
      "991:\tlearn: 0.1719403\ttotal: 5.38s\tremaining: 43.4ms\n",
      "992:\tlearn: 0.1718905\ttotal: 5.38s\tremaining: 38ms\n",
      "993:\tlearn: 0.1718548\ttotal: 5.39s\tremaining: 32.5ms\n",
      "994:\tlearn: 0.1718298\ttotal: 5.39s\tremaining: 27.1ms\n",
      "995:\tlearn: 0.1717863\ttotal: 5.4s\tremaining: 21.7ms\n",
      "996:\tlearn: 0.1717566\ttotal: 5.4s\tremaining: 16.3ms\n",
      "997:\tlearn: 0.1717082\ttotal: 5.41s\tremaining: 10.8ms\n",
      "998:\tlearn: 0.1716694\ttotal: 5.41s\tremaining: 5.41ms\n",
      "999:\tlearn: 0.1716261\ttotal: 5.41s\tremaining: 0us\n"
     ]
    }
   ],
   "source": [
    "from catboost import CatBoostClassifier\n",
    "\n",
    "cab = CatBoostClassifier()\n",
    "result = cab.fit(x_train,y_train.values.ravel())\n",
    "cab_pred = cab.predict(x_dev)"
   ]
  },
  {
   "cell_type": "code",
   "execution_count": 70,
   "metadata": {},
   "outputs": [
    {
     "name": "stdout",
     "output_type": "stream",
     "text": [
      "[[2638   30]\n",
      " [ 269   63]]\n"
     ]
    },
    {
     "data": {
      "image/png": "[encoded data removed]",
      "text/plain": [
       "<Figure size 432x288 with 2 Axes>"
      ]
     },
     "metadata": {},
     "output_type": "display_data"
    }
   ],
   "source": [
    "show_confusion(y_dev, cab_pred)"
   ]
  },
  {
   "cell_type": "code",
   "execution_count": 69,
   "metadata": {},
   "outputs": [
    {
     "data": {
      "image/png": "[encoded data removed]",
      "text/plain": [
       "<Figure size 432x288 with 1 Axes>"
      ]
     },
     "metadata": {},
     "output_type": "display_data"
    }
   ],
   "source": [
    "show_roc(y_dev, result.predict_proba(x_dev)[:,1])"
   ]
  },
  {
   "cell_type": "code",
   "execution_count": 73,
   "metadata": {},
   "outputs": [
    {
     "name": "stdout",
     "output_type": "stream",
     "text": [
      "Accuracy: 0.9003333333333333\n",
      "Precision: 0.6774193548387096\n",
      "Recall: 0.1897590361445783\n",
      "              precision    recall  f1-score   support\n",
      "\n",
      "           0       0.91      0.99      0.95      2668\n",
      "           1       0.68      0.19      0.30       332\n",
      "\n",
      "    accuracy                           0.90      3000\n",
      "   macro avg       0.79      0.59      0.62      3000\n",
      "weighted avg       0.88      0.90      0.87      3000\n",
      "\n"
     ]
    }
   ],
   "source": [
    "print(\"Accuracy:\",accuracy_score(y_dev, cab_pred))\n",
    "print(\"Precision:\",precision_score(y_dev, cab_pred))\n",
    "print(\"Recall:\",recall_score(y_dev, cab_pred))\n",
    "print(classification_report(y_dev, cab_pred) )"
   ]
  },
  {
   "cell_type": "markdown",
   "metadata": {},
   "source": [
    "The AUC is satisfactory. While the precision score is a little lower than that of Logistic Regresion, the accuracy score and the recall score are higher. Again the overall accuracy is good but the recall is pretty low. From the confusion matrix we can see we have really high false negative rate (FNR)."
   ]
  },
  {
   "cell_type": "markdown",
   "metadata": {},
   "source": [
    "* Check the predicted probability of being Class 1."
   ]
  },
  {
   "cell_type": "code",
   "execution_count": 74,
   "metadata": {},
   "outputs": [
    {
     "data": {
      "text/plain": [
       "Text(0.5,1,'Histogram of Predicted Probability')"
      ]
     },
     "execution_count": 74,
     "metadata": {},
     "output_type": "execute_result"
    },
    {
     "data": {
      "image/png": "[encoded data removed]",
      "text/plain": [
       "<Figure size 432x288 with 1 Axes>"
      ]
     },
     "metadata": {},
     "output_type": "display_data"
    }
   ],
   "source": [
    "plt.hist(result.predict_proba(x_dev)[:,1])\n",
    "plt.xlabel('predicted probability')\n",
    "plt.ylabel('Number')\n",
    "plt.title('Histogram of Predicted Probability')"
   ]
  },
  {
   "cell_type": "markdown",
   "metadata": {},
   "source": [
    "We can see that most of the predicted probabilities are below 0.5, and are very small. We also note that in the training data we have the problem of imbalanced data and few sample are in Class 1. Now the threshold is 0.5, which is the Bayesian boundary resulting in the highest overall accuracy. In this case we should actually refer to the background. If the consequence of having a large false negative rate is more serious, then lowering the threshold may be reasonable. Lowering cutoff will result in more subjects being classified as Class 1, thus increasing the true positive rates and false positive rates. "
   ]
  },
  {
   "cell_type": "markdown",
   "metadata": {},
   "source": [
    "* F1-accuracy tradeoff\n",
    "\n",
    "I try lowering the threshold to sacrifice some accuracy to decrease FNR. I start with searching for a boundary that enables a FNR of the training set around 0.5. "
   ]
  },
  {
   "cell_type": "code",
   "execution_count": 75,
   "metadata": {},
   "outputs": [
    {
     "name": "stdout",
     "output_type": "stream",
     "text": [
      "0.367381552814645\n"
     ]
    }
   ],
   "source": [
    "from catboost import CatBoostClassifier, Pool\n",
    "from catboost.utils import get_roc_curve, select_threshold\n",
    "\n",
    "catboost_pool = Pool(x_train,y_train.values.ravel())\n",
    "roc_curve_values = get_roc_curve(cab, catboost_pool)\n",
    "boundary = select_threshold(cab, curve=roc_curve_values, FNR=0.5)\n",
    "print(boundary)"
   ]
  },
  {
   "cell_type": "code",
   "execution_count": 76,
   "metadata": {},
   "outputs": [
    {
     "name": "stdout",
     "output_type": "stream",
     "text": [
      "[[2600   68]\n",
      " [ 236   96]]\n"
     ]
    },
    {
     "data": {
      "image/png": "[encoded data removed]",
      "text/plain": [
       "<Figure size 432x288 with 2 Axes>"
      ]
     },
     "metadata": {},
     "output_type": "display_data"
    }
   ],
   "source": [
    "# set threshold to 0.36\n",
    "show_confusion(y_dev, result.predict_proba(x_dev)[:,1] >0.36)"
   ]
  },
  {
   "cell_type": "code",
   "execution_count": 77,
   "metadata": {},
   "outputs": [
    {
     "name": "stdout",
     "output_type": "stream",
     "text": [
      "Accuracy: 0.8986666666666666\n",
      "Precision: 0.5853658536585366\n",
      "Recall: 0.2891566265060241\n",
      "              precision    recall  f1-score   support\n",
      "\n",
      "           0       0.92      0.97      0.94      2668\n",
      "           1       0.59      0.29      0.39       332\n",
      "\n",
      "    accuracy                           0.90      3000\n",
      "   macro avg       0.75      0.63      0.67      3000\n",
      "weighted avg       0.88      0.90      0.88      3000\n",
      "\n"
     ]
    }
   ],
   "source": [
    "# set threshold to 0.36\n",
    "print(\"Accuracy:\",accuracy_score(y_dev, result.predict_proba(x_dev)[:,1] >0.36))\n",
    "print(\"Precision:\",precision_score(y_dev, result.predict_proba(x_dev)[:,1] >0.36 ))\n",
    "print(\"Recall:\",recall_score(y_dev, result.predict_proba(x_dev)[:,1] >0.36 ))\n",
    "\n",
    "print(classification_report(y_dev, result.predict_proba(x_dev)[:,1] >0.36 ) )"
   ]
  },
  {
   "cell_type": "markdown",
   "metadata": {},
   "source": [
    "We can see the accuracy is almost unchanged but the F1 score has increased by nearly 10%. So we decided to go with this threshold of 0.36 for now."
   ]
  },
  {
   "cell_type": "code",
   "execution_count": 79,
   "metadata": {},
   "outputs": [
    {
     "name": "stdout",
     "output_type": "stream",
     "text": [
      "(10000,)\n"
     ]
    }
   ],
   "source": [
    "test_pred = (result.predict_proba(test_final)[:,1]>0.36).astype(int)\n",
    "print(test_pred.shape)"
   ]
  },
  {
   "cell_type": "markdown",
   "metadata": {},
   "source": [
    "## 3. Conclusions\n",
    "\n",
    "I have built a classification model using CatBoost to predict all the observations in the test dataset. From EDA, we see most of the features have an influence on the classification. In reality we will have better knowledge of the data and background to better understand which variables are categorical. Nevertheless, based on the property of the training data, I decide whether a variable is quantitative or categorical and select the predictors to use in the model. We also note we have the problem of imbalanced class and a small amount of missing data. For the missing labels in ${\\tt gender}$, we assign a third label to them. For the imbalanced class problem which results in a high FNR, when we can't collect more data, the ideal way is to adjust the threshold based on the real problem, i.e., whether we are more concerned about incorrectly classifying sample of Class 1 as Class 0. Without the information available, finally I compare the accuracy and F1 score tradeoff and decide to go with a threshold of 0.36 to decrease the FNR while keeping the accuracy very close to the highest possible value.\n",
    "\n",
    "I start with Logistic Regression but the AUC of 0.790 is not satisfactory. The accuracyof 0.90 is pretty high but the recall of 0.12 is pretty low as expected. The Logistic Regression model is likely underfitting the data. I tried decreasing regularization but the model did not improve much. Given more time, I could try selecting the best regularization parameter and solver using cross validation. But from an initial attempt, it is not likely to improve the performance significantly. \n",
    "\n",
    "Since 9 of 11 predictors are categorical, I turn to CatBoost, which is an open-source gradient boosting on decision trees library with categorical features support out of the box. The AUC of 0.831 is satisfactory. The final accuracy of 0.90 is pretty high but the final recall of 0.29 is a little low as expected. I have used this model to predict the labels of ${\\tt outcome}$ of the 10,000 test data points. The first five predicted values are as below."
   ]
  },
  {
   "cell_type": "code",
   "execution_count": 80,
   "metadata": {},
   "outputs": [
    {
     "name": "stdout",
     "output_type": "stream",
     "text": [
      "[0 0 0 0 0]\n"
     ]
    }
   ],
   "source": [
    "print(test_pred[0:5])"
   ]
  }
 ],
 "metadata": {
  "kernelspec": {
   "display_name": "Python 3",
   "language": "python",
   "name": "python3"
  },
  "language_info": {
   "codemirror_mode": {
    "name": "ipython",
    "version": 3
   },
   "file_extension": ".py",
   "mimetype": "text/x-python",
   "name": "python",
   "nbconvert_exporter": "python",
   "pygments_lexer": "ipython3",
   "version": "3.6.5"
  }
 },
 "nbformat": 4,
 "nbformat_minor": 2
}
